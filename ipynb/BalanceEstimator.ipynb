{
 "cells": [
  {
   "metadata": {},
   "cell_type": "markdown",
   "source": [
    "# Acount Balance Model\n",
    "___\n",
    "- A budget model for projecting federal account balance\n",
    "- Built with Generative AI (GPT-4o) and Machine Learning models using Python, Matplotlib, Seaborn, and Scikit"
   ],
   "id": "454ea0cd679ec85a"
  },
  {
   "metadata": {},
   "cell_type": "markdown",
   "source": "##### Dependencies",
   "id": "cb66af0db11c67d0"
  },
  {
   "cell_type": "code",
   "id": "initial_id",
   "metadata": {
    "collapsed": true,
    "ExecuteTime": {
     "end_time": "2025-03-13T14:23:59.447335Z",
     "start_time": "2025-03-13T14:23:54.412666Z"
    }
   },
   "source": [
    "import numpy as np\n",
    "import pandas as pd\n",
    "import matplotlib.pyplot as plt\n",
    "import seaborn as sns\n",
    "from scipy import stats\n",
    "from sklearn.preprocessing import MinMaxScaler, StandardScaler\n",
    "from sklearn.decomposition import PCA, FactorAnalysis\n",
    "from sklearn.cluster import KMeans\n",
    "from sklearn.model_selection import train_test_split\n",
    "from sklearn.linear_model import LinearRegression, Ridge, Lasso, BayesianRidge\n",
    "from sklearn.ensemble import GradientBoostingRegressor, RandomForestRegressor\n",
    "from sklearn.pipeline import make_pipeline\n",
    "from sklearn.metrics import mean_squared_error, r2_score\n",
    "from sklearn.preprocessing import PolynomialFeatures\n",
    "from statsmodels.tsa.arima.model import ARIMA\n",
    "from statsmodels.tsa.holtwinters import ExponentialSmoothing\n",
    "import warnings"
   ],
   "outputs": [],
   "execution_count": 2
  },
  {
   "metadata": {
    "ExecuteTime": {
     "end_time": "2025-03-13T14:24:00.383628Z",
     "start_time": "2025-03-13T14:24:00.374870Z"
    }
   },
   "cell_type": "code",
   "source": [
    "hdr = '\\r\\n' + '-' * 120 + '\\r\\n'\n",
    "nwln = '\\r\\n'\n",
    "warnings.filterwarnings('ignore')"
   ],
   "id": "b3eebff9b7c5580d",
   "outputs": [],
   "execution_count": 3
  },
  {
   "metadata": {},
   "cell_type": "markdown",
   "source": [
    "#### Data Source\n",
    "- File A (Account Balances) published monthly by agencies on [USASpending](https://www.usaspending.gov/federal_account)\n",
    "- Required by the DATA Act.\n",
    "- Pulled automatically from data in the [Governmentwide Treasury Account Symbol Adjusted Trial Balance System (GTAS)](https://fiscal.treasury.gov/gtas/)\n",
    "- Contains Budgetary resources, obligation, and outlay data for all the relevant Treasury Account Symbols (TAS) in a reporting agency, with additional breakdown by Budget Function.\n",
    "- It includes both award and non-award spending (grouped together), and crosswalks with the [SF 133 report](https://portal.max.gov/portal/document/SF133/Budget/FACTS%20II%20-%20SF%20133%20Report%20on%20Budget%20Execution%20and%20Budgetary%20Resources.html)."
   ],
   "id": "6a5a60988cddfe9c"
  },
  {
   "metadata": {},
   "cell_type": "markdown",
   "source": [
    "#### Data Structure\n",
    "###### 27 features, including:\n",
    "\n",
    "- AccountBalancesId (int64) – Unique identifier for account balances.\n",
    "- AgencyIdentifier (int64) – Numeric code identifying the agency.\n",
    "- AgencyName (object) – Name of the agency.\n",
    "- BeginningPeriodOfAvailability (object) – Start of the fund availability period.\n",
    "- EndingPeriodOfAvailablity (object) – End of the fund availability period.\n",
    "- Availability (object) – Type of fund availability (e.g., multi-year, no-year, etc.).\n",
    "- MainAccountCode (int64) – Treasury main account code.\n",
    "- SubAccountCode (int64) – Treasury sub-account code.\n",
    "- TreasuryAccountSymbol (object) – Identifier for the Treasury account.\n",
    "- TreasuryAccountName (object) – Name of the Treasury account.\n",
    "- BudgetFunction (object) – High-level budget function category.\n",
    "- BudgetSubFunction (object) – More granular budget sub-function category.\n",
    "- FederalAccountSymbol (object) – Identifier for the federal account.\n",
    "- FederalAccountName (object) – Name of the federal account.\n",
    "- CarryoverAuthority (float64) – Amount carried over from previous periods.\n",
    "- CarryoverAdjustments (float64) – Adjustments to carryover authority.\n",
    "- AnnualAppropriations (float64) – Annual funding appropriations.\n",
    "- BorrowingAuthority (int64) – Authorized borrowing amount.\n",
    "- ContractAuthority (int64) – Authorized contract authority.\n",
    "- OffsettingReceipts (float64) – Offsetting receipts reducing gross spending.\n",
    "- Obligations (float64) – Funds obligated for spending.\n",
    "- Recoveries (float64) – Amount recovered from prior-year obligations.\n",
    "- UnobligatedBalance (float64) – Remaining balance available for obligation.\n",
    "- Outlays (float64) – Actual spending (disbursements).\n",
    "- TotalResources (float64) – Total budgetary resources available.\n",
    "- LastModified (datetime64[ns]) – Timestamp of last modification.\n",
    "- SubmissionPeriod (object) – Period for which the data was submitted.\n",
    "#### Data Types:\n",
    "\n",
    "- Identifiers (OutlaysId, FiscalYear, AgencyCode, BureauCode): int64\n",
    "- Names (AgencyName, BureauName, AccountName, SubfunctionName): object (text)\n",
    "- Outlays (FY1962 to FY2024): float64, which suggests the presence of decimals or missing values."
   ],
   "id": "7332945cde31b255"
  },
  {
   "metadata": {},
   "cell_type": "markdown",
   "source": [
    "#### Observations\n",
    "- Each row appears to represent a specific account within an agency, identified by Treasury Account Symbol, Federal Account Symbol, and Agency Identifier.\n",
    "- The period of availability for funds is stored as text, indicating beginning and ending dates.\n",
    "- Various financial balances, including carryover authority, offsetting receipts, unobligated balances, and total resources, are stored as numerical values.\n",
    "- The LastModified column records the timestamp of the last update to a record.\n",
    "- The SubmissionPeriod column likely represents the reporting period."
   ],
   "id": "a885d81b507b09c0"
  },
  {
   "metadata": {},
   "cell_type": "markdown",
   "source": "##### Balances Dataset",
   "id": "8bff6a61290ff8e8"
  },
  {
   "metadata": {
    "ExecuteTime": {
     "end_time": "2025-03-13T14:27:47.085725Z",
     "start_time": "2025-03-13T14:27:15.742552Z"
    }
   },
   "cell_type": "code",
   "source": [
    "# Load the Excel file\n",
    "file_path_balances = r'C:\\Users\\terry\\Desktop\\Account Balances.xlsx'\n",
    "df_balances = pd.read_excel( file_path_balances, sheet_name= 'Data' )\n",
    "numeric_columns = [ 'CarryoverAuthority', 'CarryoverAdjustments', 'AnnualAppropriations',\n",
    "                    'BorrowingAuthority', 'ContractAuthority', 'OffsettingReceipts',\n",
    "                    'Obligations', 'Recoveries', 'UnobligatedBalance', 'Outlays', 'TotalResources' ]\n",
    "subset_columns = [ 'AnnualAppropriations', 'CarryoverAuthority', 'UnobligatedBalance', 'Obligations', 'Outlays' ]\n",
    "\n",
    "# Filter data\n",
    "all = [ 'AccountBalancesId', 'AgencyIdentifier', 'AgencyName', 'BeginningPeriodOfAvailability',\n",
    "        'EndingPeriodOfAvailablity', 'Availability', 'MainAccountCode', 'SubAccountCode',\n",
    "        'TreasuryAccountSymbol', 'TreasuryAccountName', 'BudgetFunction', 'BudgetSubFunction',\n",
    "        'FederalAccountSymbol', 'FederalAccountName', 'LastModified', 'SubmissionPeriod'  ] + numeric_columns\n",
    "subset =  [ 'AgencyName', 'BudgetFunction' ] + subset_columns\n",
    "\n",
    "# Define complete dataset\n",
    "df_dataset = df_balances[ all ].fillna(0)\n",
    "df_subset = df_balances[ subset ].fillna(0)\n",
    "\n",
    "# Convert fiscal year columns to numeric\n",
    "df_dataset.iloc[ :, 5: ] = df_dataset.iloc[ :, 5: ].apply( pd.to_numeric, errors='coerce' )\n"
   ],
   "id": "c971cea2601818f1",
   "outputs": [],
   "execution_count": 5
  },
  {
   "metadata": {},
   "cell_type": "code",
   "source": [
    "# Display subet\n",
    "print( hdr )\n",
    "print( 'Balances Subset' )\n",
    "print( nwln )\n",
    "\n",
    "df_subset.describe()"
   ],
   "id": "aec9e91ea33b74f5",
   "outputs": [],
   "execution_count": null
  },
  {
   "metadata": {},
   "cell_type": "markdown",
   "source": [
    "## I. Introduction\n",
    "Government budgeting is a complex process that requires precise forecasting of revenues and expenditures to maintain economic stability and public trust. Traditional forecasting methods often rely on historical trends and expert judgment, which may not fully capture the complexities of modern fiscal environments. This study aims to enhance federal account balance forecasts by incorporating advanced statistical and machine learning techniques, thereby improving the accuracy and reliability of fiscal planning.\n",
    "\n",
    "\n"
   ],
   "id": "3c45e4ddccf4da5a"
  },
  {
   "metadata": {},
   "cell_type": "markdown",
   "source": [
    "#### Abstract\n",
    "\n",
    "Accurate forecasting of federal account balances is critical for effective fiscal policy and economic stability. This study integrates advanced statistical and machine learning techniques to enhance the precision of these forecasts. By analyzing historical financial data and applying methods such as regression analysis and time-series modeling, we identify key patterns and predictive factors. Our findings contribute to the field of modern economics and finance by providing a data-driven framework for government budgeting and fiscal planning."
   ],
   "id": "a944d9e113232c29"
  },
  {
   "metadata": {},
   "cell_type": "markdown",
   "source": [
    "#### Background\n",
    "The federal budget comprises various components, including obligations, outlays, and unobligated balances, each reflecting different aspects of government financial activities. Obligations represent commitments to spend, outlays are actual expenditures, and unobligated balances indicate remaining funds available for future use. Accurate forecasting of these elements is essential for effective fiscal management. The Office of Management and Budget (OMB) provides comprehensive data and analytical perspectives on federal finances, offering valuable insights into historical trends and future projections."
   ],
   "id": "b65658ad18e2b960"
  },
  {
   "metadata": {},
   "cell_type": "markdown",
   "source": [
    "#### Problem Statement\n",
    "Traditional budget forecasting methods may not adequately address the dynamic and complex nature of modern economies. These methods often assume linear relationships and may not account for non-linear patterns or interactions between variables. This study seeks to address these limitations by integrating advanced statistical and machine learning techniques to improve the accuracy of federal account balance forecasts."
   ],
   "id": "49c85a053fe6ce9"
  },
  {
   "metadata": {},
   "cell_type": "markdown",
   "source": [
    "#### Limitations of Study\n",
    "##### 1. Data Availability:\n",
    "- The analysis relies on historical data, which may not fully capture real-time economic fluctuations or unforeseen events.\n",
    "##### 2. Model Interpretability:\n",
    "- Complex models, such as machine learning algorithms, may lack transparency, making it challenging for policymakers to understand the underlying mechanisms.\n",
    "##### 3. Structural Changes:\n",
    "- The models may not account for significant structural changes in the economy or fiscal policy, potentially affecting forecast accuracy."
   ],
   "id": "78a2c2e466bd4e87"
  },
  {
   "metadata": {},
   "cell_type": "markdown",
   "source": [
    "## II. Methodologies\n",
    "___\n",
    "The study employs a comprehensive analytical approach, encompassing the following stages:"
   ],
   "id": "d019fd2949856df1"
  },
  {
   "metadata": {},
   "cell_type": "markdown",
   "source": [
    "\n",
    "#### Data Collection & Preprocessing:\n",
    "- Cleaning and organizing data to address missing values and inconsistencies, ensuring readiness for analysis.\n",
    "- The dataset underwent rigorous preprocessing to ensure the removal of missing values and inconsistencies.\n",
    "- Missing values in key financial columns such as Unobligated Balance, Obligations, Outlays, and Total Resources were identified and handled appropriately using imputation techniques where applicable.\n",
    "- Duplicate records were examined to ensure data integrity, and unnecessary columns were dropped to enhance analytical efficiency.\n",
    "- Variables were assessed for data type correctness, and categorical variables were encoded where necessary to facilitate statistical computations.\n",
    "- The dataset was filtered for missing values in key financial columns, ensuring accurate statistical analysis.\n",
    "- The primary variables of interest were Unobligated Balance, Obligations, Outlays, and Total Resources, as these represent critical components of federal account balances.\n",
    "\n",
    "\n"
   ],
   "id": "3926340df5880f40"
  },
  {
   "metadata": {},
   "cell_type": "markdown",
   "source": [
    "#### Descriptive Statistics & Probability Distributions\n",
    "\n",
    "The research involved descriptive and inferential statistical methods to understand the dataset structure.\n",
    "\n",
    "##### Statistical Analysis:\n",
    "\n",
    "- Descriptive Statistics: Mean, standard deviation, skewness, and distributions of budget outlays.\n",
    "- Hypothesis Testing: T-tests, ANOVA, and chi-square tests to examine year-over-year differences in budget allocations.\n",
    "- Correlation Analysis: Pearson, Kendall’s Tau, and Spearman correlation coefficients to identify relationships between fiscal years.\n",
    "##### Feature engineering and dimensionality reduction were applied:\n",
    "\n",
    "- Min-Max Scaling & Z-score Standardization to normalize budget outlays.\n",
    "- Principal Component Analysis (PCA) to reduce data complexity while retaining variance.\n",
    "- K-Means Clustering & Factor Analysis to categorize spending patterns."
   ],
   "id": "3be287c63b38fabd"
  },
  {
   "metadata": {},
   "cell_type": "markdown",
   "source": [
    "#### Regression Modeling\n",
    "A range of machine learning regression techniques were applied to model budgetary trends:\n",
    "\n",
    "- Linear Regression - Establishes a baseline trend model.\n",
    "- Polynomial Regression - Captures nonlinear relationships between fiscal years.\n",
    "- Ridge & Lasso Regression - Applies regularization to avoid overfitting.\n",
    "- Bayesian Ridge Regression - Enhances robustness in high-noise datasets.\n",
    "- Gradient Boosting & Random Forest - Advanced ensemble models for superior prediction accuracy."
   ],
   "id": "9971ff7f619f5822"
  },
  {
   "metadata": {},
   "cell_type": "markdown",
   "source": [
    "#### Time Series Forecasting\n",
    "To predict future federal budget outlays, two primary time series forecasting methods were employed:\n",
    "\n",
    "- ARIMA (Autoregressive Integrated Moving Average) - Captures linear dependencies in fiscal trends.\n",
    "- Holt-Winters Exponential Smoothing - Models seasonal fluctuations and trend components."
   ],
   "id": "d9c19cda55ef43c1"
  },
  {
   "metadata": {},
   "cell_type": "markdown",
   "source": [
    "## III. Descriptive Statistics & Probability Distributions\n",
    "___\n"
   ],
   "id": "a0745982761ab759"
  },
  {
   "metadata": {},
   "cell_type": "markdown",
   "source": "##### Balances Dataset",
   "id": "2982ac51bc5acc83"
  },
  {
   "metadata": {
    "ExecuteTime": {
     "end_time": "2025-03-13T14:37:34.807666Z",
     "start_time": "2025-03-13T14:37:07.023547Z"
    }
   },
   "cell_type": "code",
   "source": [
    "# Load the Excel file\n",
    "file_path_balances = r'C:\\Users\\terry\\Desktop\\Account Balances.xlsx'\n",
    "df_balances = pd.read_excel( file_path_balances, sheet_name = 'Data' )\n",
    "numeric_columns = [ 'CarryoverAuthority', 'CarryoverAdjustments', 'AnnualAppropriations',\n",
    "                    'BorrowingAuthority', 'ContractAuthority', 'OffsettingReceipts',\n",
    "                    'Obligations', 'Recoveries', 'UnobligatedBalance', 'Outlays', 'TotalResources' ]\n",
    "subset_columns = [ 'AnnualAppropriations', 'CarryoverAuthority', 'UnobligatedBalance',\n",
    "                   'Obligations', 'Outlays' ]\n",
    "\n",
    "# Filter data\n",
    "all = [ 'AccountBalancesId', 'AgencyIdentifier', 'AgencyName', 'BeginningPeriodOfAvailability',\n",
    "        'EndingPeriodOfAvailablity', 'Availability', 'MainAccountCode', 'SubAccountCode',\n",
    "        'TreasuryAccountSymbol', 'TreasuryAccountName', 'BudgetFunction', 'BudgetSubFunction',\n",
    "        'FederalAccountSymbol', 'FederalAccountName', 'LastModified',\n",
    "        'SubmissionPeriod' ] + numeric_columns\n",
    "subset = [ 'AgencyName', 'BudgetFunction' ] + subset_columns\n",
    "\n",
    "# Define complete dataset\n",
    "df_dataset = df_balances[ all ].fillna( 0 )\n",
    "df_subset = df_balances[ subset ].fillna( 0 )\n",
    "\n",
    "# Convert fiscal year columns to numeric\n",
    "df_dataset.iloc[ :, 5: ] = df_dataset.iloc[ :, 5: ].apply( pd.to_numeric, errors = 'coerce' )\n",
    "\n",
    "print( hdr )\n",
    "print( 'Descriptive Statistics' )\n",
    "print( nwln )\n",
    "\n",
    "# Descriptive Statistics & Probability Distributions\n",
    "df_descriptive = df_balances[ numeric_columns ].describe( percentiles=[ .25, .5, .75 ] )\n",
    "\n",
    "df_descriptive.round( 2 )"
   ],
   "id": "896a3e2a304b788e",
   "outputs": [
    {
     "name": "stdout",
     "output_type": "stream",
     "text": [
      "\r\n",
      "------------------------------------------------------------------------------------------------------------------------\r\n",
      "\n",
      "Descriptive Statistics\n",
      "\r\n",
      "\n"
     ]
    },
    {
     "data": {
      "text/plain": [
       "       CarryoverAuthority  CarryoverAdjustments  AnnualAppropriations  \\\n",
       "count        5.698700e+04          5.698700e+04          5.698700e+04   \n",
       "mean         2.236022e+08          1.670400e+07          9.640120e+08   \n",
       "std          4.410790e+09          9.209870e+08          1.926234e+10   \n",
       "min         -1.243823e+10         -1.069944e+11         -4.778902e+11   \n",
       "25%          0.000000e+00          0.000000e+00          0.000000e+00   \n",
       "50%          4.765065e+05          5.533000e+02          0.000000e+00   \n",
       "75%          6.926488e+06          7.500632e+05          0.000000e+00   \n",
       "max          4.681363e+11          1.219471e+11          1.301902e+12   \n",
       "\n",
       "       BorrowingAuthority  ContractAuthority  OffsettingReceipts  \\\n",
       "count        5.698700e+04       5.698700e+04        5.698600e+04   \n",
       "mean         5.143275e+06       2.341911e+07        5.658403e+07   \n",
       "std          3.624667e+08       1.010791e+09        1.118473e+09   \n",
       "min          0.000000e+00      -1.653946e+07       -7.315833e+09   \n",
       "25%          0.000000e+00       0.000000e+00        0.000000e+00   \n",
       "50%          0.000000e+00       0.000000e+00        0.000000e+00   \n",
       "75%          0.000000e+00       0.000000e+00        0.000000e+00   \n",
       "max          4.569707e+10       1.061979e+11        1.202509e+11   \n",
       "\n",
       "        Obligations    Recoveries  UnobligatedBalance       Outlays  \\\n",
       "count  5.698700e+04  5.698700e+04        5.698700e+04  5.698700e+04   \n",
       "mean   1.044334e+09  2.671504e+07        2.451300e+08  1.002847e+09   \n",
       "std    1.907602e+10  6.600979e+08        4.591571e+09  1.872748e+10   \n",
       "min   -9.230616e+06 -1.885326e+06       -2.344574e+10 -4.726972e+06   \n",
       "25%    0.000000e+00  0.000000e+00        4.680000e+00  7.901800e+02   \n",
       "50%    1.073116e+05  1.535033e+04        5.543914e+05  1.329503e+06   \n",
       "75%    1.115899e+07  1.024507e+06        7.935946e+06  3.053774e+07   \n",
       "max    1.301902e+12  7.949705e+10        4.681363e+11  1.293782e+12   \n",
       "\n",
       "       TotalResources  \n",
       "count    5.698700e+04  \n",
       "mean     1.289464e+09  \n",
       "std      1.995196e+10  \n",
       "min     -4.288210e+09  \n",
       "25%      9.932670e+04  \n",
       "50%      2.305069e+06  \n",
       "75%      3.612729e+07  \n",
       "max      1.301902e+12  "
      ],
      "text/html": [
       "<div>\n",
       "<style scoped>\n",
       "    .dataframe tbody tr th:only-of-type {\n",
       "        vertical-align: middle;\n",
       "    }\n",
       "\n",
       "    .dataframe tbody tr th {\n",
       "        vertical-align: top;\n",
       "    }\n",
       "\n",
       "    .dataframe thead th {\n",
       "        text-align: right;\n",
       "    }\n",
       "</style>\n",
       "<table border=\"1\" class=\"dataframe\">\n",
       "  <thead>\n",
       "    <tr style=\"text-align: right;\">\n",
       "      <th></th>\n",
       "      <th>CarryoverAuthority</th>\n",
       "      <th>CarryoverAdjustments</th>\n",
       "      <th>AnnualAppropriations</th>\n",
       "      <th>BorrowingAuthority</th>\n",
       "      <th>ContractAuthority</th>\n",
       "      <th>OffsettingReceipts</th>\n",
       "      <th>Obligations</th>\n",
       "      <th>Recoveries</th>\n",
       "      <th>UnobligatedBalance</th>\n",
       "      <th>Outlays</th>\n",
       "      <th>TotalResources</th>\n",
       "    </tr>\n",
       "  </thead>\n",
       "  <tbody>\n",
       "    <tr>\n",
       "      <th>count</th>\n",
       "      <td>5.698700e+04</td>\n",
       "      <td>5.698700e+04</td>\n",
       "      <td>5.698700e+04</td>\n",
       "      <td>5.698700e+04</td>\n",
       "      <td>5.698700e+04</td>\n",
       "      <td>5.698600e+04</td>\n",
       "      <td>5.698700e+04</td>\n",
       "      <td>5.698700e+04</td>\n",
       "      <td>5.698700e+04</td>\n",
       "      <td>5.698700e+04</td>\n",
       "      <td>5.698700e+04</td>\n",
       "    </tr>\n",
       "    <tr>\n",
       "      <th>mean</th>\n",
       "      <td>2.236022e+08</td>\n",
       "      <td>1.670400e+07</td>\n",
       "      <td>9.640120e+08</td>\n",
       "      <td>5.143275e+06</td>\n",
       "      <td>2.341911e+07</td>\n",
       "      <td>5.658403e+07</td>\n",
       "      <td>1.044334e+09</td>\n",
       "      <td>2.671504e+07</td>\n",
       "      <td>2.451300e+08</td>\n",
       "      <td>1.002847e+09</td>\n",
       "      <td>1.289464e+09</td>\n",
       "    </tr>\n",
       "    <tr>\n",
       "      <th>std</th>\n",
       "      <td>4.410790e+09</td>\n",
       "      <td>9.209870e+08</td>\n",
       "      <td>1.926234e+10</td>\n",
       "      <td>3.624667e+08</td>\n",
       "      <td>1.010791e+09</td>\n",
       "      <td>1.118473e+09</td>\n",
       "      <td>1.907602e+10</td>\n",
       "      <td>6.600979e+08</td>\n",
       "      <td>4.591571e+09</td>\n",
       "      <td>1.872748e+10</td>\n",
       "      <td>1.995196e+10</td>\n",
       "    </tr>\n",
       "    <tr>\n",
       "      <th>min</th>\n",
       "      <td>-1.243823e+10</td>\n",
       "      <td>-1.069944e+11</td>\n",
       "      <td>-4.778902e+11</td>\n",
       "      <td>0.000000e+00</td>\n",
       "      <td>-1.653946e+07</td>\n",
       "      <td>-7.315833e+09</td>\n",
       "      <td>-9.230616e+06</td>\n",
       "      <td>-1.885326e+06</td>\n",
       "      <td>-2.344574e+10</td>\n",
       "      <td>-4.726972e+06</td>\n",
       "      <td>-4.288210e+09</td>\n",
       "    </tr>\n",
       "    <tr>\n",
       "      <th>25%</th>\n",
       "      <td>0.000000e+00</td>\n",
       "      <td>0.000000e+00</td>\n",
       "      <td>0.000000e+00</td>\n",
       "      <td>0.000000e+00</td>\n",
       "      <td>0.000000e+00</td>\n",
       "      <td>0.000000e+00</td>\n",
       "      <td>0.000000e+00</td>\n",
       "      <td>0.000000e+00</td>\n",
       "      <td>4.680000e+00</td>\n",
       "      <td>7.901800e+02</td>\n",
       "      <td>9.932670e+04</td>\n",
       "    </tr>\n",
       "    <tr>\n",
       "      <th>50%</th>\n",
       "      <td>4.765065e+05</td>\n",
       "      <td>5.533000e+02</td>\n",
       "      <td>0.000000e+00</td>\n",
       "      <td>0.000000e+00</td>\n",
       "      <td>0.000000e+00</td>\n",
       "      <td>0.000000e+00</td>\n",
       "      <td>1.073116e+05</td>\n",
       "      <td>1.535033e+04</td>\n",
       "      <td>5.543914e+05</td>\n",
       "      <td>1.329503e+06</td>\n",
       "      <td>2.305069e+06</td>\n",
       "    </tr>\n",
       "    <tr>\n",
       "      <th>75%</th>\n",
       "      <td>6.926488e+06</td>\n",
       "      <td>7.500632e+05</td>\n",
       "      <td>0.000000e+00</td>\n",
       "      <td>0.000000e+00</td>\n",
       "      <td>0.000000e+00</td>\n",
       "      <td>0.000000e+00</td>\n",
       "      <td>1.115899e+07</td>\n",
       "      <td>1.024507e+06</td>\n",
       "      <td>7.935946e+06</td>\n",
       "      <td>3.053774e+07</td>\n",
       "      <td>3.612729e+07</td>\n",
       "    </tr>\n",
       "    <tr>\n",
       "      <th>max</th>\n",
       "      <td>4.681363e+11</td>\n",
       "      <td>1.219471e+11</td>\n",
       "      <td>1.301902e+12</td>\n",
       "      <td>4.569707e+10</td>\n",
       "      <td>1.061979e+11</td>\n",
       "      <td>1.202509e+11</td>\n",
       "      <td>1.301902e+12</td>\n",
       "      <td>7.949705e+10</td>\n",
       "      <td>4.681363e+11</td>\n",
       "      <td>1.293782e+12</td>\n",
       "      <td>1.301902e+12</td>\n",
       "    </tr>\n",
       "  </tbody>\n",
       "</table>\n",
       "</div>"
      ]
     },
     "execution_count": 8,
     "metadata": {},
     "output_type": "execute_result"
    }
   ],
   "execution_count": 8
  },
  {
   "metadata": {},
   "cell_type": "markdown",
   "source": "#### Normalization (Min-Max Scaling)",
   "id": "15432628768fc3d0"
  },
  {
   "metadata": {
    "ExecuteTime": {
     "end_time": "2025-03-13T14:30:45.430125Z",
     "start_time": "2025-03-13T14:30:45.348991Z"
    }
   },
   "cell_type": "code",
   "source": [
    "# Normalization (Min-Max Scaling)\n",
    "min_max_scaler = MinMaxScaler()\n",
    "df_normalized = df_subset.copy( )\n",
    "df_normalized[ numeric_columns ] = min_max_scaler.fit_transform( df_balances[ numeric_columns ] )\n",
    "\n",
    "print( hdr )\n",
    "print( 'Normalization' )\n",
    "print( nwln )\n",
    "\n",
    "df_normalized"
   ],
   "id": "2e75d21c20fd558e",
   "outputs": [
    {
     "name": "stdout",
     "output_type": "stream",
     "text": [
      "\r\n",
      "------------------------------------------------------------------------------------------------------------------------\r\n",
      "\n",
      "Normalized dataset\n",
      "\r\n",
      "\n"
     ]
    },
    {
     "data": {
      "text/plain": [
       "                                        AgencyName  \\\n",
       "0      OFFICE OF NAVAJO AND HOPI INDIAN RELOCATION   \n",
       "1        ADVISORY COUNCIL ON HISTORIC PRESERVATION   \n",
       "2        ADVISORY COUNCIL ON HISTORIC PRESERVATION   \n",
       "3        ADVISORY COUNCIL ON HISTORIC PRESERVATION   \n",
       "4        ADVISORY COUNCIL ON HISTORIC PRESERVATION   \n",
       "...                                            ...   \n",
       "56982                    DEPARTMENT OF AGRICULTURE   \n",
       "56983                          DEPARTMENT OF STATE   \n",
       "56984                      DEPARTMENT OF EDUCATION   \n",
       "56985      DEPARTMENT OF HEALTH AND HUMAN SERVICES   \n",
       "56986               DEPARTMENT OF VETERANS AFFAIRS   \n",
       "\n",
       "                                          BudgetFunction  \\\n",
       "0                                     GENERAL GOVERNMENT   \n",
       "1                      NATURAL RESOURCES AND ENVIRONMENT   \n",
       "2                      NATURAL RESOURCES AND ENVIRONMENT   \n",
       "3                      NATURAL RESOURCES AND ENVIRONMENT   \n",
       "4                      NATURAL RESOURCES AND ENVIRONMENT   \n",
       "...                                                  ...   \n",
       "56982                                    INCOME SECURITY   \n",
       "56983                              INTERNATIONAL AFFAIRS   \n",
       "56984  EDUCATION, TRAINING, EMPLOYMENT, AND SOCIAL SE...   \n",
       "56985                                             HEALTH   \n",
       "56986                     VETERANS BENEFITS AND SERVICES   \n",
       "\n",
       "       AnnualAppropriations  CarryoverAuthority  UnobligatedBalance  \\\n",
       "0                  0.268509            0.025902            0.047703   \n",
       "1                  0.268509            0.025882            0.047695   \n",
       "2                  0.268509            0.025882            0.047699   \n",
       "3                  0.268514            0.025882            0.047694   \n",
       "4                  0.268509            0.025885            0.047694   \n",
       "...                     ...                 ...                 ...   \n",
       "56982              0.282120            0.025882            0.052094   \n",
       "56983              0.268509            0.025924            0.047745   \n",
       "56984              0.268509            0.026033            0.047694   \n",
       "56985              0.268509            0.025890            0.047702   \n",
       "56986              0.268509            0.026086            0.047856   \n",
       "\n",
       "       Obligations   Outlays  CarryoverAdjustments  BorrowingAuthority  \\\n",
       "0         0.000011  0.000007              0.467346                 0.0   \n",
       "1         0.000007  0.000004              0.467344                 0.0   \n",
       "2         0.000008  0.000004              0.467344                 0.0   \n",
       "3         0.000014  0.000010              0.467344                 0.0   \n",
       "4         0.000008  0.000005              0.467344                 0.0   \n",
       "...            ...       ...                   ...                 ...   \n",
       "56982     0.016952  0.014078              0.467344                 0.0   \n",
       "56983     0.000007  0.000015              0.467366                 0.0   \n",
       "56984     0.000063  0.000014              0.467344                 0.0   \n",
       "56985     0.000007  0.000006              0.467344                 0.0   \n",
       "56986     0.000027  0.000025              0.467344                 0.0   \n",
       "\n",
       "       ContractAuthority  OffsettingReceipts  Recoveries  TotalResources  \n",
       "0               0.000156            0.057349    0.000029        0.003290  \n",
       "1               0.000156            0.057349    0.000024        0.003283  \n",
       "2               0.000156            0.057375    0.000024        0.003286  \n",
       "3               0.000156            0.057350    0.000024        0.003290  \n",
       "4               0.000156            0.057347    0.000024        0.003284  \n",
       "...                  ...                 ...         ...             ...  \n",
       "56982           0.000156            0.057349    0.000024        0.021829  \n",
       "56983           0.000156            0.057349    0.000103        0.003302  \n",
       "56984           0.000156            0.057349    0.000024        0.003339  \n",
       "56985           0.000156            0.057349    0.000024        0.003286  \n",
       "56986           0.000156            0.057399    0.000024        0.003363  \n",
       "\n",
       "[56987 rows x 13 columns]"
      ],
      "text/html": [
       "<div>\n",
       "<style scoped>\n",
       "    .dataframe tbody tr th:only-of-type {\n",
       "        vertical-align: middle;\n",
       "    }\n",
       "\n",
       "    .dataframe tbody tr th {\n",
       "        vertical-align: top;\n",
       "    }\n",
       "\n",
       "    .dataframe thead th {\n",
       "        text-align: right;\n",
       "    }\n",
       "</style>\n",
       "<table border=\"1\" class=\"dataframe\">\n",
       "  <thead>\n",
       "    <tr style=\"text-align: right;\">\n",
       "      <th></th>\n",
       "      <th>AgencyName</th>\n",
       "      <th>BudgetFunction</th>\n",
       "      <th>AnnualAppropriations</th>\n",
       "      <th>CarryoverAuthority</th>\n",
       "      <th>UnobligatedBalance</th>\n",
       "      <th>Obligations</th>\n",
       "      <th>Outlays</th>\n",
       "      <th>CarryoverAdjustments</th>\n",
       "      <th>BorrowingAuthority</th>\n",
       "      <th>ContractAuthority</th>\n",
       "      <th>OffsettingReceipts</th>\n",
       "      <th>Recoveries</th>\n",
       "      <th>TotalResources</th>\n",
       "    </tr>\n",
       "  </thead>\n",
       "  <tbody>\n",
       "    <tr>\n",
       "      <th>0</th>\n",
       "      <td>OFFICE OF NAVAJO AND HOPI INDIAN RELOCATION</td>\n",
       "      <td>GENERAL GOVERNMENT</td>\n",
       "      <td>0.268509</td>\n",
       "      <td>0.025902</td>\n",
       "      <td>0.047703</td>\n",
       "      <td>0.000011</td>\n",
       "      <td>0.000007</td>\n",
       "      <td>0.467346</td>\n",
       "      <td>0.0</td>\n",
       "      <td>0.000156</td>\n",
       "      <td>0.057349</td>\n",
       "      <td>0.000029</td>\n",
       "      <td>0.003290</td>\n",
       "    </tr>\n",
       "    <tr>\n",
       "      <th>1</th>\n",
       "      <td>ADVISORY COUNCIL ON HISTORIC PRESERVATION</td>\n",
       "      <td>NATURAL RESOURCES AND ENVIRONMENT</td>\n",
       "      <td>0.268509</td>\n",
       "      <td>0.025882</td>\n",
       "      <td>0.047695</td>\n",
       "      <td>0.000007</td>\n",
       "      <td>0.000004</td>\n",
       "      <td>0.467344</td>\n",
       "      <td>0.0</td>\n",
       "      <td>0.000156</td>\n",
       "      <td>0.057349</td>\n",
       "      <td>0.000024</td>\n",
       "      <td>0.003283</td>\n",
       "    </tr>\n",
       "    <tr>\n",
       "      <th>2</th>\n",
       "      <td>ADVISORY COUNCIL ON HISTORIC PRESERVATION</td>\n",
       "      <td>NATURAL RESOURCES AND ENVIRONMENT</td>\n",
       "      <td>0.268509</td>\n",
       "      <td>0.025882</td>\n",
       "      <td>0.047699</td>\n",
       "      <td>0.000008</td>\n",
       "      <td>0.000004</td>\n",
       "      <td>0.467344</td>\n",
       "      <td>0.0</td>\n",
       "      <td>0.000156</td>\n",
       "      <td>0.057375</td>\n",
       "      <td>0.000024</td>\n",
       "      <td>0.003286</td>\n",
       "    </tr>\n",
       "    <tr>\n",
       "      <th>3</th>\n",
       "      <td>ADVISORY COUNCIL ON HISTORIC PRESERVATION</td>\n",
       "      <td>NATURAL RESOURCES AND ENVIRONMENT</td>\n",
       "      <td>0.268514</td>\n",
       "      <td>0.025882</td>\n",
       "      <td>0.047694</td>\n",
       "      <td>0.000014</td>\n",
       "      <td>0.000010</td>\n",
       "      <td>0.467344</td>\n",
       "      <td>0.0</td>\n",
       "      <td>0.000156</td>\n",
       "      <td>0.057350</td>\n",
       "      <td>0.000024</td>\n",
       "      <td>0.003290</td>\n",
       "    </tr>\n",
       "    <tr>\n",
       "      <th>4</th>\n",
       "      <td>ADVISORY COUNCIL ON HISTORIC PRESERVATION</td>\n",
       "      <td>NATURAL RESOURCES AND ENVIRONMENT</td>\n",
       "      <td>0.268509</td>\n",
       "      <td>0.025885</td>\n",
       "      <td>0.047694</td>\n",
       "      <td>0.000008</td>\n",
       "      <td>0.000005</td>\n",
       "      <td>0.467344</td>\n",
       "      <td>0.0</td>\n",
       "      <td>0.000156</td>\n",
       "      <td>0.057347</td>\n",
       "      <td>0.000024</td>\n",
       "      <td>0.003284</td>\n",
       "    </tr>\n",
       "    <tr>\n",
       "      <th>...</th>\n",
       "      <td>...</td>\n",
       "      <td>...</td>\n",
       "      <td>...</td>\n",
       "      <td>...</td>\n",
       "      <td>...</td>\n",
       "      <td>...</td>\n",
       "      <td>...</td>\n",
       "      <td>...</td>\n",
       "      <td>...</td>\n",
       "      <td>...</td>\n",
       "      <td>...</td>\n",
       "      <td>...</td>\n",
       "      <td>...</td>\n",
       "    </tr>\n",
       "    <tr>\n",
       "      <th>56982</th>\n",
       "      <td>DEPARTMENT OF AGRICULTURE</td>\n",
       "      <td>INCOME SECURITY</td>\n",
       "      <td>0.282120</td>\n",
       "      <td>0.025882</td>\n",
       "      <td>0.052094</td>\n",
       "      <td>0.016952</td>\n",
       "      <td>0.014078</td>\n",
       "      <td>0.467344</td>\n",
       "      <td>0.0</td>\n",
       "      <td>0.000156</td>\n",
       "      <td>0.057349</td>\n",
       "      <td>0.000024</td>\n",
       "      <td>0.021829</td>\n",
       "    </tr>\n",
       "    <tr>\n",
       "      <th>56983</th>\n",
       "      <td>DEPARTMENT OF STATE</td>\n",
       "      <td>INTERNATIONAL AFFAIRS</td>\n",
       "      <td>0.268509</td>\n",
       "      <td>0.025924</td>\n",
       "      <td>0.047745</td>\n",
       "      <td>0.000007</td>\n",
       "      <td>0.000015</td>\n",
       "      <td>0.467366</td>\n",
       "      <td>0.0</td>\n",
       "      <td>0.000156</td>\n",
       "      <td>0.057349</td>\n",
       "      <td>0.000103</td>\n",
       "      <td>0.003302</td>\n",
       "    </tr>\n",
       "    <tr>\n",
       "      <th>56984</th>\n",
       "      <td>DEPARTMENT OF EDUCATION</td>\n",
       "      <td>EDUCATION, TRAINING, EMPLOYMENT, AND SOCIAL SE...</td>\n",
       "      <td>0.268509</td>\n",
       "      <td>0.026033</td>\n",
       "      <td>0.047694</td>\n",
       "      <td>0.000063</td>\n",
       "      <td>0.000014</td>\n",
       "      <td>0.467344</td>\n",
       "      <td>0.0</td>\n",
       "      <td>0.000156</td>\n",
       "      <td>0.057349</td>\n",
       "      <td>0.000024</td>\n",
       "      <td>0.003339</td>\n",
       "    </tr>\n",
       "    <tr>\n",
       "      <th>56985</th>\n",
       "      <td>DEPARTMENT OF HEALTH AND HUMAN SERVICES</td>\n",
       "      <td>HEALTH</td>\n",
       "      <td>0.268509</td>\n",
       "      <td>0.025890</td>\n",
       "      <td>0.047702</td>\n",
       "      <td>0.000007</td>\n",
       "      <td>0.000006</td>\n",
       "      <td>0.467344</td>\n",
       "      <td>0.0</td>\n",
       "      <td>0.000156</td>\n",
       "      <td>0.057349</td>\n",
       "      <td>0.000024</td>\n",
       "      <td>0.003286</td>\n",
       "    </tr>\n",
       "    <tr>\n",
       "      <th>56986</th>\n",
       "      <td>DEPARTMENT OF VETERANS AFFAIRS</td>\n",
       "      <td>VETERANS BENEFITS AND SERVICES</td>\n",
       "      <td>0.268509</td>\n",
       "      <td>0.026086</td>\n",
       "      <td>0.047856</td>\n",
       "      <td>0.000027</td>\n",
       "      <td>0.000025</td>\n",
       "      <td>0.467344</td>\n",
       "      <td>0.0</td>\n",
       "      <td>0.000156</td>\n",
       "      <td>0.057399</td>\n",
       "      <td>0.000024</td>\n",
       "      <td>0.003363</td>\n",
       "    </tr>\n",
       "  </tbody>\n",
       "</table>\n",
       "<p>56987 rows × 13 columns</p>\n",
       "</div>"
      ]
     },
     "execution_count": 7,
     "metadata": {},
     "output_type": "execute_result"
    }
   ],
   "execution_count": 7
  },
  {
   "metadata": {},
   "cell_type": "markdown",
   "source": "#### Standardization (Z-Score Scaling)",
   "id": "8cfb8461a2f19fea"
  },
  {
   "metadata": {
    "ExecuteTime": {
     "end_time": "2025-03-13T15:05:57.351383Z",
     "start_time": "2025-03-13T15:05:57.261232Z"
    }
   },
   "cell_type": "code",
   "source": [
    "# Standardization (Z-score Scaling)\n",
    "z_score_scaler = StandardScaler()\n",
    "df_standard = df_subset.copy( )\n",
    "df_standard[ numeric_columns ] = z_score_scaler.fit_transform( df_balances[ numeric_columns ] )\n",
    "\n",
    "print( hdr )\n",
    "print( 'Standardization' )\n",
    "print( nwln )\n",
    "\n",
    "df_standard"
   ],
   "id": "c22a57c53cdf6bff",
   "outputs": [
    {
     "name": "stdout",
     "output_type": "stream",
     "text": [
      "\r\n",
      "------------------------------------------------------------------------------------------------------------------------\r\n",
      "\n",
      "Standardization\n",
      "\r\n",
      "\n"
     ]
    },
    {
     "data": {
      "text/plain": [
       "                                        AgencyName  \\\n",
       "0      OFFICE OF NAVAJO AND HOPI INDIAN RELOCATION   \n",
       "1        ADVISORY COUNCIL ON HISTORIC PRESERVATION   \n",
       "2        ADVISORY COUNCIL ON HISTORIC PRESERVATION   \n",
       "3        ADVISORY COUNCIL ON HISTORIC PRESERVATION   \n",
       "4        ADVISORY COUNCIL ON HISTORIC PRESERVATION   \n",
       "...                                            ...   \n",
       "56982                    DEPARTMENT OF AGRICULTURE   \n",
       "56983                          DEPARTMENT OF STATE   \n",
       "56984                      DEPARTMENT OF EDUCATION   \n",
       "56985      DEPARTMENT OF HEALTH AND HUMAN SERVICES   \n",
       "56986               DEPARTMENT OF VETERANS AFFAIRS   \n",
       "\n",
       "                                          BudgetFunction  \\\n",
       "0                                     GENERAL GOVERNMENT   \n",
       "1                      NATURAL RESOURCES AND ENVIRONMENT   \n",
       "2                      NATURAL RESOURCES AND ENVIRONMENT   \n",
       "3                      NATURAL RESOURCES AND ENVIRONMENT   \n",
       "4                      NATURAL RESOURCES AND ENVIRONMENT   \n",
       "...                                                  ...   \n",
       "56982                                    INCOME SECURITY   \n",
       "56983                              INTERNATIONAL AFFAIRS   \n",
       "56984  EDUCATION, TRAINING, EMPLOYMENT, AND SOCIAL SE...   \n",
       "56985                                             HEALTH   \n",
       "56986                     VETERANS BENEFITS AND SERVICES   \n",
       "\n",
       "       AnnualAppropriations  CarryoverAuthority  UnobligatedBalance  \\\n",
       "0                 -0.050047           -0.048569           -0.052435   \n",
       "1                 -0.050046           -0.050693           -0.053382   \n",
       "2                 -0.050047           -0.050695           -0.052884   \n",
       "3                 -0.049601           -0.050695           -0.053385   \n",
       "4                 -0.050047           -0.050361           -0.053387   \n",
       "...                     ...                 ...                 ...   \n",
       "56982              1.207555           -0.050695            0.417688   \n",
       "56983             -0.050047           -0.046077           -0.047935   \n",
       "56984             -0.050047           -0.034197           -0.053387   \n",
       "56985             -0.050047           -0.049876           -0.052598   \n",
       "56986             -0.050047           -0.028428           -0.036130   \n",
       "\n",
       "       Obligations   Outlays  CarryoverAdjustments  BorrowingAuthority  \\\n",
       "0        -0.054464 -0.053288             -0.017712            -0.01419   \n",
       "1        -0.054746 -0.053550             -0.018137            -0.01419   \n",
       "2        -0.054693 -0.053500             -0.018137            -0.01419   \n",
       "3        -0.054292 -0.053134             -0.018137            -0.01419   \n",
       "4        -0.054680 -0.053482             -0.018137            -0.01419   \n",
       "...            ...       ...                   ...                 ...   \n",
       "56982     1.101752  0.918808             -0.018137            -0.01419   \n",
       "56983    -0.054729 -0.052767             -0.012708            -0.01419   \n",
       "56984    -0.050932 -0.052828             -0.018137            -0.01419   \n",
       "56985    -0.054745 -0.053409             -0.018091            -0.01419   \n",
       "56986    -0.053413 -0.052063             -0.018113            -0.01419   \n",
       "\n",
       "       ContractAuthority  OffsettingReceipts  Recoveries  TotalResources  \n",
       "0              -0.023169           -0.050591   -0.039878       -0.064139  \n",
       "1              -0.023169           -0.050591   -0.040472       -0.064627  \n",
       "2              -0.023169           -0.047609   -0.040472       -0.064462  \n",
       "3              -0.023169           -0.050503   -0.040472       -0.064194  \n",
       "4              -0.023169           -0.050775   -0.040471       -0.064565  \n",
       "...                  ...                 ...         ...             ...  \n",
       "56982          -0.023169           -0.050591   -0.040472        1.149505  \n",
       "56983          -0.023169           -0.050591   -0.030897       -0.063357  \n",
       "56984          -0.023169           -0.050591   -0.040472       -0.060982  \n",
       "56985          -0.023169           -0.050591   -0.040408       -0.064446  \n",
       "56986          -0.023169           -0.044840   -0.040438       -0.059383  \n",
       "\n",
       "[56987 rows x 13 columns]"
      ],
      "text/html": [
       "<div>\n",
       "<style scoped>\n",
       "    .dataframe tbody tr th:only-of-type {\n",
       "        vertical-align: middle;\n",
       "    }\n",
       "\n",
       "    .dataframe tbody tr th {\n",
       "        vertical-align: top;\n",
       "    }\n",
       "\n",
       "    .dataframe thead th {\n",
       "        text-align: right;\n",
       "    }\n",
       "</style>\n",
       "<table border=\"1\" class=\"dataframe\">\n",
       "  <thead>\n",
       "    <tr style=\"text-align: right;\">\n",
       "      <th></th>\n",
       "      <th>AgencyName</th>\n",
       "      <th>BudgetFunction</th>\n",
       "      <th>AnnualAppropriations</th>\n",
       "      <th>CarryoverAuthority</th>\n",
       "      <th>UnobligatedBalance</th>\n",
       "      <th>Obligations</th>\n",
       "      <th>Outlays</th>\n",
       "      <th>CarryoverAdjustments</th>\n",
       "      <th>BorrowingAuthority</th>\n",
       "      <th>ContractAuthority</th>\n",
       "      <th>OffsettingReceipts</th>\n",
       "      <th>Recoveries</th>\n",
       "      <th>TotalResources</th>\n",
       "    </tr>\n",
       "  </thead>\n",
       "  <tbody>\n",
       "    <tr>\n",
       "      <th>0</th>\n",
       "      <td>OFFICE OF NAVAJO AND HOPI INDIAN RELOCATION</td>\n",
       "      <td>GENERAL GOVERNMENT</td>\n",
       "      <td>-0.050047</td>\n",
       "      <td>-0.048569</td>\n",
       "      <td>-0.052435</td>\n",
       "      <td>-0.054464</td>\n",
       "      <td>-0.053288</td>\n",
       "      <td>-0.017712</td>\n",
       "      <td>-0.01419</td>\n",
       "      <td>-0.023169</td>\n",
       "      <td>-0.050591</td>\n",
       "      <td>-0.039878</td>\n",
       "      <td>-0.064139</td>\n",
       "    </tr>\n",
       "    <tr>\n",
       "      <th>1</th>\n",
       "      <td>ADVISORY COUNCIL ON HISTORIC PRESERVATION</td>\n",
       "      <td>NATURAL RESOURCES AND ENVIRONMENT</td>\n",
       "      <td>-0.050046</td>\n",
       "      <td>-0.050693</td>\n",
       "      <td>-0.053382</td>\n",
       "      <td>-0.054746</td>\n",
       "      <td>-0.053550</td>\n",
       "      <td>-0.018137</td>\n",
       "      <td>-0.01419</td>\n",
       "      <td>-0.023169</td>\n",
       "      <td>-0.050591</td>\n",
       "      <td>-0.040472</td>\n",
       "      <td>-0.064627</td>\n",
       "    </tr>\n",
       "    <tr>\n",
       "      <th>2</th>\n",
       "      <td>ADVISORY COUNCIL ON HISTORIC PRESERVATION</td>\n",
       "      <td>NATURAL RESOURCES AND ENVIRONMENT</td>\n",
       "      <td>-0.050047</td>\n",
       "      <td>-0.050695</td>\n",
       "      <td>-0.052884</td>\n",
       "      <td>-0.054693</td>\n",
       "      <td>-0.053500</td>\n",
       "      <td>-0.018137</td>\n",
       "      <td>-0.01419</td>\n",
       "      <td>-0.023169</td>\n",
       "      <td>-0.047609</td>\n",
       "      <td>-0.040472</td>\n",
       "      <td>-0.064462</td>\n",
       "    </tr>\n",
       "    <tr>\n",
       "      <th>3</th>\n",
       "      <td>ADVISORY COUNCIL ON HISTORIC PRESERVATION</td>\n",
       "      <td>NATURAL RESOURCES AND ENVIRONMENT</td>\n",
       "      <td>-0.049601</td>\n",
       "      <td>-0.050695</td>\n",
       "      <td>-0.053385</td>\n",
       "      <td>-0.054292</td>\n",
       "      <td>-0.053134</td>\n",
       "      <td>-0.018137</td>\n",
       "      <td>-0.01419</td>\n",
       "      <td>-0.023169</td>\n",
       "      <td>-0.050503</td>\n",
       "      <td>-0.040472</td>\n",
       "      <td>-0.064194</td>\n",
       "    </tr>\n",
       "    <tr>\n",
       "      <th>4</th>\n",
       "      <td>ADVISORY COUNCIL ON HISTORIC PRESERVATION</td>\n",
       "      <td>NATURAL RESOURCES AND ENVIRONMENT</td>\n",
       "      <td>-0.050047</td>\n",
       "      <td>-0.050361</td>\n",
       "      <td>-0.053387</td>\n",
       "      <td>-0.054680</td>\n",
       "      <td>-0.053482</td>\n",
       "      <td>-0.018137</td>\n",
       "      <td>-0.01419</td>\n",
       "      <td>-0.023169</td>\n",
       "      <td>-0.050775</td>\n",
       "      <td>-0.040471</td>\n",
       "      <td>-0.064565</td>\n",
       "    </tr>\n",
       "    <tr>\n",
       "      <th>...</th>\n",
       "      <td>...</td>\n",
       "      <td>...</td>\n",
       "      <td>...</td>\n",
       "      <td>...</td>\n",
       "      <td>...</td>\n",
       "      <td>...</td>\n",
       "      <td>...</td>\n",
       "      <td>...</td>\n",
       "      <td>...</td>\n",
       "      <td>...</td>\n",
       "      <td>...</td>\n",
       "      <td>...</td>\n",
       "      <td>...</td>\n",
       "    </tr>\n",
       "    <tr>\n",
       "      <th>56982</th>\n",
       "      <td>DEPARTMENT OF AGRICULTURE</td>\n",
       "      <td>INCOME SECURITY</td>\n",
       "      <td>1.207555</td>\n",
       "      <td>-0.050695</td>\n",
       "      <td>0.417688</td>\n",
       "      <td>1.101752</td>\n",
       "      <td>0.918808</td>\n",
       "      <td>-0.018137</td>\n",
       "      <td>-0.01419</td>\n",
       "      <td>-0.023169</td>\n",
       "      <td>-0.050591</td>\n",
       "      <td>-0.040472</td>\n",
       "      <td>1.149505</td>\n",
       "    </tr>\n",
       "    <tr>\n",
       "      <th>56983</th>\n",
       "      <td>DEPARTMENT OF STATE</td>\n",
       "      <td>INTERNATIONAL AFFAIRS</td>\n",
       "      <td>-0.050047</td>\n",
       "      <td>-0.046077</td>\n",
       "      <td>-0.047935</td>\n",
       "      <td>-0.054729</td>\n",
       "      <td>-0.052767</td>\n",
       "      <td>-0.012708</td>\n",
       "      <td>-0.01419</td>\n",
       "      <td>-0.023169</td>\n",
       "      <td>-0.050591</td>\n",
       "      <td>-0.030897</td>\n",
       "      <td>-0.063357</td>\n",
       "    </tr>\n",
       "    <tr>\n",
       "      <th>56984</th>\n",
       "      <td>DEPARTMENT OF EDUCATION</td>\n",
       "      <td>EDUCATION, TRAINING, EMPLOYMENT, AND SOCIAL SE...</td>\n",
       "      <td>-0.050047</td>\n",
       "      <td>-0.034197</td>\n",
       "      <td>-0.053387</td>\n",
       "      <td>-0.050932</td>\n",
       "      <td>-0.052828</td>\n",
       "      <td>-0.018137</td>\n",
       "      <td>-0.01419</td>\n",
       "      <td>-0.023169</td>\n",
       "      <td>-0.050591</td>\n",
       "      <td>-0.040472</td>\n",
       "      <td>-0.060982</td>\n",
       "    </tr>\n",
       "    <tr>\n",
       "      <th>56985</th>\n",
       "      <td>DEPARTMENT OF HEALTH AND HUMAN SERVICES</td>\n",
       "      <td>HEALTH</td>\n",
       "      <td>-0.050047</td>\n",
       "      <td>-0.049876</td>\n",
       "      <td>-0.052598</td>\n",
       "      <td>-0.054745</td>\n",
       "      <td>-0.053409</td>\n",
       "      <td>-0.018091</td>\n",
       "      <td>-0.01419</td>\n",
       "      <td>-0.023169</td>\n",
       "      <td>-0.050591</td>\n",
       "      <td>-0.040408</td>\n",
       "      <td>-0.064446</td>\n",
       "    </tr>\n",
       "    <tr>\n",
       "      <th>56986</th>\n",
       "      <td>DEPARTMENT OF VETERANS AFFAIRS</td>\n",
       "      <td>VETERANS BENEFITS AND SERVICES</td>\n",
       "      <td>-0.050047</td>\n",
       "      <td>-0.028428</td>\n",
       "      <td>-0.036130</td>\n",
       "      <td>-0.053413</td>\n",
       "      <td>-0.052063</td>\n",
       "      <td>-0.018113</td>\n",
       "      <td>-0.01419</td>\n",
       "      <td>-0.023169</td>\n",
       "      <td>-0.044840</td>\n",
       "      <td>-0.040438</td>\n",
       "      <td>-0.059383</td>\n",
       "    </tr>\n",
       "  </tbody>\n",
       "</table>\n",
       "<p>56987 rows × 13 columns</p>\n",
       "</div>"
      ]
     },
     "execution_count": 10,
     "metadata": {},
     "output_type": "execute_result"
    }
   ],
   "execution_count": 10
  },
  {
   "metadata": {},
   "cell_type": "markdown",
   "source": "#### Probability Distributions",
   "id": "9a687c6287b7ec17"
  },
  {
   "metadata": {
    "ExecuteTime": {
     "end_time": "2025-03-13T15:30:55.907565Z",
     "start_time": "2025-03-13T15:30:52.926208Z"
    }
   },
   "cell_type": "code",
   "source": [
    "# Plot probability distributions for selected financial columns\n",
    "fig, axes = plt.subplots(2, 2, figsize=(10, 6))\n",
    "\n",
    "# Select columns to analyze\n",
    "columns_to_analyze = [\"AnnualAppropriations\", \"UnobligatedBalance\", \"Obligations\", \"Outlays\"]\n",
    "\n",
    "for ax, col in zip(axes.flatten(), columns_to_analyze):\n",
    "    # Drop NaN values for analysis\n",
    "    data = df_subset[col].dropna()\n",
    "\n",
    "    # Fit a normal distribution to the data\n",
    "    mu, std = stats.norm.fit(data)\n",
    "\n",
    "    # Histogram of the data\n",
    "    sns.histplot(data, bins=50, kde=True, color='blue', alpha=0.6, ax=ax, stat=\"density\")\n",
    "\n",
    "    # Plot the probability density function (PDF) of the fitted normal distribution\n",
    "    xmin, xmax = ax.get_xlim()\n",
    "    x = np.linspace(xmin, xmax, 100)\n",
    "    p = stats.norm.pdf(x, mu, std)\n",
    "    ax.plot(x, p, 'r', linewidth=2)\n",
    "\n",
    "    ax.set_title(f\"Probability Distribution - {col}\")\n",
    "\n",
    "print( hdr )\n",
    "print( 'Probability Distributions' )\n",
    "print( nwln )\n",
    "\n",
    "plt.tight_layout()\n",
    "plt.show()"
   ],
   "id": "9ca68bbe974fed96",
   "outputs": [
    {
     "name": "stdout",
     "output_type": "stream",
     "text": [
      "\r\n",
      "------------------------------------------------------------------------------------------------------------------------\r\n",
      "\n",
      "Probability Distributions\n",
      "\r\n",
      "\n"
     ]
    },
    {
     "data": {
      "text/plain": [
       "<Figure size 1000x600 with 4 Axes>"
      ],
      "image/png": "[encoded data removed]"
     },
     "metadata": {},
     "output_type": "display_data"
    }
   ],
   "execution_count": 26
  },
  {
   "metadata": {},
   "cell_type": "markdown",
   "source": [
    "\n",
    "\n",
    "#### Results:\n",
    "##### Confidence Intervals (95%)\n",
    "\n",
    "- Annual Appropriations: (805.86M, 1.12B)\n",
    "- Obligations: (887.71M, 1.20B)\n",
    "- Outlays: (849.09M, 1.16B)\n",
    "- nobligated Balance: (207.43M, 282.83M)\n",
    "- Total Resources: (1.13B, 1.45B)\n",
    "##### Hypothesis Testing\n",
    "- We conducted a one-sample t-test to determine if the mean of each metric is significantly different from zero.\n",
    "- The p-values for all variables are extremely small (p < 0.05), meaning that the mean values of these financial variables are highly significantly different from zero.\n",
    "\n",
    "##### Normality Testing (Shapiro-Wilk Test)\n",
    "- All financial variables strongly deviate from normality (p-values close to zero), meaning they do not follow a normal distribution.\n",
    "\n",
    "##### Correlation Analysis\n",
    "- Strong positive correlation between Annual Appropriations, Obligations, and Outlays (≈0.98+).\n",
    "- Total Resources is also strongly correlated with Annual Appropriations and Outlays (≈0.96+).\n",
    "- Unobligated Balance shows weak correlations with other financial variables."
   ],
   "id": "34ce70f5320cdfba"
  },
  {
   "metadata": {},
   "cell_type": "markdown",
   "source": [
    "## III. Feature Engineering & Dimensionality Reduction\n",
    "___"
   ],
   "id": "d5ea4fd4ed0acf1f"
  },
  {
   "metadata": {},
   "cell_type": "markdown",
   "source": [
    "Applying techniques such as normalization, standardization, Principal Component Analysis (PCA), and factor analysis to enhance model performance.\n",
    "\n",
    "\n",
    "\n"
   ],
   "id": "f3947baae673f2ee"
  },
  {
   "metadata": {},
   "cell_type": "markdown",
   "source": [
    "#### Log transformations\n",
    "\n",
    "- Improved normality for better model fits.\n",
    "- Logarithmic transformations reduced skewness, improving the performance of linear models.\n",
    "- Polynomial features were created to capture non-linear relationships, particularly in spending trends and obligations forecasting."
   ],
   "id": "84018b30347b8d03"
  },
  {
   "metadata": {},
   "cell_type": "code",
   "source": [
    "# Log Transformations - log1p to handle zero values\n",
    "df_logtransform = df_balances.copy( )\n",
    "df_logtransform[ numeric_columns ] = np.log1p( df_standard[ numeric_columns ].fillna( 0 ) )\n",
    "\n",
    "print( hdr )\n",
    "print( 'Log Transformed Data' )\n",
    "print( nwln )\n",
    "\n",
    "df_logtransform"
   ],
   "id": "e1460e66fd8cdeb8",
   "outputs": [],
   "execution_count": null
  },
  {
   "metadata": {},
   "cell_type": "markdown",
   "source": [
    "#### Principle Component Analysis (PCA)\n",
    "\n",
    "- Reduced complexity, making forecasting models more efficient.\n",
    "- PCA reduced the original four financial metrics to two principal components, which retained 95% of the variance while simplifying the model.\n",
    "- Factor Analysis confirmed that obligations-related spending and carryover funding availability were the two primary underlying financial dimensions."
   ],
   "id": "62814a95131c9b13"
  },
  {
   "metadata": {
    "ExecuteTime": {
     "end_time": "2025-03-13T15:07:52.500940Z",
     "start_time": "2025-03-13T15:07:52.458602Z"
    }
   },
   "cell_type": "code",
   "source": [
    "# Principal Component Analysis (PCA)\n",
    "pca = PCA(n_components=2)\n",
    "pca_result = pca.fit_transform( df_standard[ numeric_columns ].fillna( 0 ) )\n",
    "\n",
    "print( hdr )\n",
    "print( 'PCA Results' )\n",
    "print( nwln )\n",
    "\n",
    "\n",
    "# Display processed data\n",
    "pca_result\n"
   ],
   "id": "1f0478e774a78bce",
   "outputs": [
    {
     "name": "stdout",
     "output_type": "stream",
     "text": [
      "\r\n",
      "------------------------------------------------------------------------------------------------------------------------\r\n",
      "\n",
      "PCA Results\n",
      "\r\n",
      "\n"
     ]
    },
    {
     "data": {
      "text/plain": [
       "array([[-0.13145549, -0.06897043],\n",
       "       [-0.13240693, -0.07088038],\n",
       "       [-0.13203795, -0.06970207],\n",
       "       ...,\n",
       "       [-0.12730697, -0.06095184],\n",
       "       [-0.13208294, -0.06989398],\n",
       "       [-0.12459166, -0.0448175 ]], shape=(56987, 2))"
      ]
     },
     "execution_count": 16,
     "metadata": {},
     "output_type": "execute_result"
    }
   ],
   "execution_count": 16
  },
  {
   "metadata": {},
   "cell_type": "markdown",
   "source": "#### Factor Analysis",
   "id": "2786a7ec8a3e7912"
  },
  {
   "metadata": {
    "ExecuteTime": {
     "end_time": "2025-03-13T15:08:29.060185Z",
     "start_time": "2025-03-13T15:08:21.395076Z"
    }
   },
   "cell_type": "code",
   "source": [
    "# K-means Clustering\n",
    "kmeans = KMeans( n_clusters=2, random_state=42, n_init=10 )\n",
    "df_balances[ 'Cluster' ] = kmeans.fit_predict( df_standard[ numeric_columns  ].fillna(0) )\n",
    "\n",
    "# Factor Analysis\n",
    "factor_analyzer = FactorAnalysis(n_components=2, random_state=42)\n",
    "factor_results = factor_analyzer.fit_transform(df_standard[ numeric_columns  ].fillna(0) )\n",
    "\n",
    "print( hdr )\n",
    "print( 'Factor Analysis' )\n",
    "print( nwln )\n",
    "\n",
    "factor_results"
   ],
   "id": "159eded2260ceaa0",
   "outputs": [
    {
     "name": "stdout",
     "output_type": "stream",
     "text": [
      "\r\n",
      "------------------------------------------------------------------------------------------------------------------------\r\n",
      "\n",
      "Factor Analysis\n",
      "\r\n",
      "\n"
     ]
    },
    {
     "data": {
      "text/plain": [
       "array([[-0.0603268 , -0.04097471],\n",
       "       [-0.06072801, -0.04185855],\n",
       "       [-0.06061048, -0.04137387],\n",
       "       ...,\n",
       "       [-0.0569843 , -0.04264492],\n",
       "       [-0.06062423, -0.04107894],\n",
       "       [-0.05716202, -0.02497892]], shape=(56987, 2))"
      ]
     },
     "execution_count": 18,
     "metadata": {},
     "output_type": "execute_result"
    }
   ],
   "execution_count": 18
  },
  {
   "metadata": {},
   "cell_type": "markdown",
   "source": "#### Polynomial & Interaction Features",
   "id": "ccbe2b678e7721ca"
  },
  {
   "metadata": {
    "ExecuteTime": {
     "end_time": "2025-03-13T15:08:39.503839Z",
     "start_time": "2025-03-13T15:08:37.155699Z"
    }
   },
   "cell_type": "code",
   "source": [
    "# Polynomial & Interaction Features\n",
    "poly = PolynomialFeatures(degree=2, interaction_only=True, include_bias=False)\n",
    "poly_features = poly.fit_transform(df_standard[ numeric_columns ].fillna( 0 ) )\n",
    "\n",
    "print( hdr )\n",
    "print( 'PCA' )\n",
    "print( nwln )\n",
    "\n",
    "# Visualizing PCA Results\n",
    "plt.figure(figsize=(12, 6))\n",
    "plt.scatter(pca_result[:, 0], pca_result[:, 1], c=df_balances[ 'Cluster' ], cmap= 'viridis', alpha=0.7 )\n",
    "plt.xlabel(\"Principal Component 1\")\n",
    "plt.ylabel(\"Principal Component 2\")\n",
    "plt.title(\"PCA Projection of Financial Data\")\n",
    "plt.colorbar(label=\"Cluster Label\")\n",
    "plt.show()"
   ],
   "id": "a7286d8fe346c8fd",
   "outputs": [
    {
     "name": "stdout",
     "output_type": "stream",
     "text": [
      "\r\n",
      "------------------------------------------------------------------------------------------------------------------------\r\n",
      "\n",
      "PCA\n",
      "\r\n",
      "\n"
     ]
    },
    {
     "data": {
      "text/plain": [
       "<Figure size 1200x600 with 2 Axes>"
      ],
      "image/png": "[encoded data removed]"
     },
     "metadata": {},
     "output_type": "display_data"
    }
   ],
   "execution_count": 19
  },
  {
   "metadata": {},
   "cell_type": "code",
   "source": "",
   "id": "597be72342268c5d",
   "outputs": [],
   "execution_count": null
  },
  {
   "metadata": {},
   "cell_type": "markdown",
   "source": [
    "### Feature Engineering & Dimensionality Reduction Results:\n",
    "- Normalization & Standardization: Successfully applied Min-Max scaling and Z-score normalization to standardize financial data.\n",
    "- PCA Analysis: Dimensionality reduced to two principal components, capturing key variance while simplifying data.\n",
    "- K-means Clustering: Data segmented into three clusters, revealing underlying patterns in financial behavior.\n",
    "- Factor Analysis: Identified key latent factors driving financial data variations.\n",
    "- Log Transformations: Applied to stabilize skewed distributions, improving model interpretability.\n",
    "- Polynomial Features: Added interaction terms to enhance regression and predictive modeling capabilities."
   ],
   "id": "b2c087462e780830"
  },
  {
   "metadata": {},
   "cell_type": "markdown",
   "source": "#### Conversions",
   "id": "a8dc900f40d3bcd4"
  },
  {
   "metadata": {
    "ExecuteTime": {
     "end_time": "2025-03-12T21:07:59.378565Z",
     "start_time": "2025-03-12T21:07:59.351470Z"
    }
   },
   "cell_type": "code",
   "source": [
    "# Convert LastModified to datetime\n",
    "df_balances[ 'LastModified' ] = pd.to_datetime(df_balances[ 'LastModified' ], errors= 'coerce' )\n",
    "\n",
    "# Drop rows with excessive errors in critical numeric fields\n",
    "df_balances = df_balances.dropna(subset=numeric_columns )\n",
    "\n",
    "# Convert fiscal years to integers where possible\n",
    "df_balances[ 'BeginningPeriodOfAvailability' ] = pd.to_numeric(df_balances[ 'BeginningPeriodOfAvailability' ], errors= 'coerce' )\n",
    "df_balances[ 'EndingPeriodOfAvailablity' ] = pd.to_numeric(df_balances[ 'EndingPeriodOfAvailablity' ], errors= 'coerce' )"
   ],
   "id": "1581d6644ace14b7",
   "outputs": [],
   "execution_count": 54
  },
  {
   "metadata": {},
   "cell_type": "markdown",
   "source": [
    "### IV. Correlation Analysis\n",
    "___\n"
   ],
   "id": "9876b6d1787675e8"
  },
  {
   "metadata": {
    "ExecuteTime": {
     "end_time": "2025-03-12T21:08:51.187772Z",
     "start_time": "2025-03-12T21:08:51.134576Z"
    }
   },
   "cell_type": "code",
   "source": [
    "# Pearson Correlation\n",
    "df_pearson = df_balances[ numeric_columns ].corr(method= 'pearson' )\n",
    "\n",
    "# Kendall’s Tau Correlation\n",
    "df_kendall = df_balances[numeric_columns ].corr(method= 'kendall' )\n",
    "\n",
    "# Spearman Correlation\n",
    "df_spearman = df_balances[numeric_columns ].corr(method= 'spearman' )\n"
   ],
   "id": "9a177ceda2ded8a0",
   "outputs": [],
   "execution_count": 56
  },
  {
   "metadata": {},
   "cell_type": "markdown",
   "source": "#### Pearson Correlation",
   "id": "dd2b883177ed1b1b"
  },
  {
   "metadata": {
    "ExecuteTime": {
     "end_time": "2025-03-12T14:47:30.645290Z",
     "start_time": "2025-03-12T14:47:29.798446Z"
    }
   },
   "cell_type": "code",
   "source": [
    "print( hdr )\n",
    "print( 'Pearson Heatmap' )\n",
    "print( nwln )\n",
    "\n",
    "# Display correlation heatmaps separately to optimize processing\n",
    "plt.figure(figsize=(12, 6))\n",
    "sns.heatmap(df_pearson, annot=True, cmap= \"coolwarm\" )\n",
    "plt.title(\"Pearson Correlation\")\n",
    "plt.show()\n"
   ],
   "id": "a230934cfec84e92",
   "outputs": [
    {
     "name": "stdout",
     "output_type": "stream",
     "text": [
      "\r\n",
      "------------------------------------------------------------------------------------------------------------------------\r\n",
      "\n",
      "Pearson Heatmap\n",
      "\r\n",
      "\n"
     ]
    },
    {
     "data": {
      "text/plain": [
       "<Figure size 1200x600 with 2 Axes>"
      ],
      "image/png": "[encoded data removed]"
     },
     "metadata": {},
     "output_type": "display_data"
    }
   ],
   "execution_count": 102
  },
  {
   "metadata": {},
   "cell_type": "markdown",
   "source": "#### Kendall's Correlation",
   "id": "13d33a2e4cfbdd84"
  },
  {
   "metadata": {
    "ExecuteTime": {
     "end_time": "2025-03-12T21:08:57.410375Z",
     "start_time": "2025-03-12T21:08:56.860541Z"
    }
   },
   "cell_type": "code",
   "source": [
    "print( hdr )\n",
    "print( 'Kendall Heatmap' )\n",
    "print( nwln )\n",
    "\n",
    "# Display correlation heatmaps\n",
    "plt.figure(figsize=(12, 6))\n",
    "sns.heatmap(df_kendall, annot=True, cmap= 'coolwarm' )\n",
    "plt.title('Kendall’s Tau Correlation')\n",
    "plt.show()\n"
   ],
   "id": "f3fbb4f4dd078a9",
   "outputs": [
    {
     "name": "stdout",
     "output_type": "stream",
     "text": [
      "\r\n",
      "------------------------------------------------------------------------------------------------------------------------\r\n",
      "\n",
      "Kendall Heatmap\n",
      "\r\n",
      "\n"
     ]
    },
    {
     "data": {
      "text/plain": [
       "<Figure size 1200x600 with 2 Axes>"
      ],
      "image/png": "[encoded data removed]"
     },
     "metadata": {},
     "output_type": "display_data"
    }
   ],
   "execution_count": 57
  },
  {
   "metadata": {},
   "cell_type": "markdown",
   "source": "#### Spearman Correlation",
   "id": "940cfb4e55e34bae"
  },
  {
   "metadata": {
    "ExecuteTime": {
     "end_time": "2025-03-12T21:09:01.750560Z",
     "start_time": "2025-03-12T21:09:01.128698Z"
    }
   },
   "cell_type": "code",
   "source": [
    "print( hdr )\n",
    "print( 'Spearman Heatmap' )\n",
    "print( nwln )\n",
    "\n",
    "# Display correlation heatmaps\n",
    "plt.figure(figsize=(12, 6))\n",
    "sns.heatmap(df_spearman, annot=True, cmap= 'coolwarm' )\n",
    "plt.title('Spearman Correlation')\n",
    "plt.show()"
   ],
   "id": "a7d028dfa51c3dbc",
   "outputs": [
    {
     "name": "stdout",
     "output_type": "stream",
     "text": [
      "\r\n",
      "------------------------------------------------------------------------------------------------------------------------\r\n",
      "\n",
      "Spearman Heatmap\n",
      "\r\n",
      "\n"
     ]
    },
    {
     "data": {
      "text/plain": [
       "<Figure size 1200x600 with 2 Axes>"
      ],
      "image/png": "[encoded data removed]"
     },
     "metadata": {},
     "output_type": "display_data"
    }
   ],
   "execution_count": 58
  },
  {
   "metadata": {},
   "cell_type": "code",
   "source": [
    "print( hdr )\n",
    "print( 'Correlation Matrix' )\n",
    "print( nwln )\n",
    "\n",
    "# Display correlation matrices\n",
    "df_pearson\n",
    "df_kendall\n",
    "df_spearman"
   ],
   "id": "7381db74402fff19",
   "outputs": [],
   "execution_count": null
  },
  {
   "metadata": {},
   "cell_type": "markdown",
   "source": [
    "### Summary of  Correlation Results\n",
    "- Pearson Correlation: Indicates strong linear relationships among financial variables, suggesting that a linear regression model may work well for projections.\n",
    "- Kendall’s Tau & Spearman Correlations: Highlight non-linear dependencies, meaning that non-parametric models or tree-based regressors may be useful.\n",
    "- Key Relationship: A strong correlation exists between Obligations and Outlays, making Outlays a good predictive variable.\n",
    "- Regression Implications: Since different correlation metrics yield varying strengths, a mix of linear and non-linear regression models should be considered."
   ],
   "id": "d7c7cad67eaad24d"
  },
  {
   "metadata": {},
   "cell_type": "markdown",
   "source": [
    "### V. Regression Analysis\n",
    "___"
   ],
   "id": "5c927e622d39d128"
  },
  {
   "metadata": {
    "ExecuteTime": {
     "end_time": "2025-03-12T21:09:16.365578Z",
     "start_time": "2025-03-12T21:09:13.614884Z"
    }
   },
   "cell_type": "code",
   "source": [
    "# Define predictors and target variable\n",
    "X = df_balances[[ 'Obligations', 'UnobligatedBalance', 'Outlays' ] ]\n",
    "y = df_balances[ 'TotalResources' ]\n",
    "\n",
    "# Split data into training and testing sets\n",
    "X_train, X_test, y_train, y_test = train_test_split(X, y, test_size=0.2, random_state=42)\n",
    "\n",
    "# Define regression models\n",
    "models = {\n",
    "    'Linear Regression': LinearRegression(),\n",
    "    'Polynomial Regression (Degree=2)': make_pipeline(PolynomialFeatures(2), LinearRegression()),\n",
    "    'Ridge Regression': Lasso(alpha=10.0, max_iter=10000),\n",
    "    'Lasso Regression': Lasso(alpha=10.0, max_iter=10000),\n",
    "    'Bayesian Ridge Regression': BayesianRidge(max_iter=10000),\n",
    "    'Gradient Boosting': GradientBoostingRegressor(n_estimators=100, random_state=42),\n",
    "    'Random Forest': RandomForestRegressor(n_estimators=100, random_state=42)\n",
    "}\n",
    "\n",
    "# Train models and evaluate performance\n",
    "regression_results = []\n",
    "\n",
    "for name, model in models.items():\n",
    "    model.fit(X_train, y_train)\n",
    "    y_pred = model.predict(X_test)\n",
    "\n",
    "    mse = mean_squared_error(y_test, y_pred)\n",
    "    r2 = r2_score(y_test, y_pred)\n",
    "\n",
    "    regression_results.append({\n",
    "        'Model': name,\n",
    "        'MSE': mse,\n",
    "        'R2 Score': r2\n",
    "    })\n",
    "\n",
    "# Convert results into DataFrame for analysis\n",
    "df_regressions = pd.DataFrame(regression_results ).sort_values(by= 'R2 Score', ascending=False ).round(2)\n",
    "\n",
    "print( hdr )\n",
    "print( 'Regression Data' )\n",
    "print( nwln )\n",
    "\n",
    "# Display regression model results\n",
    "df_regressions"
   ],
   "id": "f31ae8263e62d0d1",
   "outputs": [
    {
     "name": "stdout",
     "output_type": "stream",
     "text": [
      "\r\n",
      "------------------------------------------------------------------------------------------------------------------------\r\n",
      "\n",
      "Regression Data\n",
      "\r\n",
      "\n"
     ]
    },
    {
     "data": {
      "text/plain": [
       "                              Model           MSE  R2 Score\n",
       "0                 Linear Regression  0.000000e+00      1.00\n",
       "4         Bayesian Ridge Regression  0.000000e+00      1.00\n",
       "1  Polynomial Regression (Degree=2)  2.049447e+05      1.00\n",
       "2                  Ridge Regression  5.078550e+07      1.00\n",
       "3                  Lasso Regression  5.078550e+07      1.00\n",
       "5                 Gradient Boosting  1.786522e+15      0.96\n",
       "6                     Random Forest  1.789796e+15      0.96"
      ],
      "text/html": [
       "<div>\n",
       "<style scoped>\n",
       "    .dataframe tbody tr th:only-of-type {\n",
       "        vertical-align: middle;\n",
       "    }\n",
       "\n",
       "    .dataframe tbody tr th {\n",
       "        vertical-align: top;\n",
       "    }\n",
       "\n",
       "    .dataframe thead th {\n",
       "        text-align: right;\n",
       "    }\n",
       "</style>\n",
       "<table border=\"1\" class=\"dataframe\">\n",
       "  <thead>\n",
       "    <tr style=\"text-align: right;\">\n",
       "      <th></th>\n",
       "      <th>Model</th>\n",
       "      <th>MSE</th>\n",
       "      <th>R2 Score</th>\n",
       "    </tr>\n",
       "  </thead>\n",
       "  <tbody>\n",
       "    <tr>\n",
       "      <th>0</th>\n",
       "      <td>Linear Regression</td>\n",
       "      <td>0.000000e+00</td>\n",
       "      <td>1.00</td>\n",
       "    </tr>\n",
       "    <tr>\n",
       "      <th>4</th>\n",
       "      <td>Bayesian Ridge Regression</td>\n",
       "      <td>0.000000e+00</td>\n",
       "      <td>1.00</td>\n",
       "    </tr>\n",
       "    <tr>\n",
       "      <th>1</th>\n",
       "      <td>Polynomial Regression (Degree=2)</td>\n",
       "      <td>2.049447e+05</td>\n",
       "      <td>1.00</td>\n",
       "    </tr>\n",
       "    <tr>\n",
       "      <th>2</th>\n",
       "      <td>Ridge Regression</td>\n",
       "      <td>5.078550e+07</td>\n",
       "      <td>1.00</td>\n",
       "    </tr>\n",
       "    <tr>\n",
       "      <th>3</th>\n",
       "      <td>Lasso Regression</td>\n",
       "      <td>5.078550e+07</td>\n",
       "      <td>1.00</td>\n",
       "    </tr>\n",
       "    <tr>\n",
       "      <th>5</th>\n",
       "      <td>Gradient Boosting</td>\n",
       "      <td>1.786522e+15</td>\n",
       "      <td>0.96</td>\n",
       "    </tr>\n",
       "    <tr>\n",
       "      <th>6</th>\n",
       "      <td>Random Forest</td>\n",
       "      <td>1.789796e+15</td>\n",
       "      <td>0.96</td>\n",
       "    </tr>\n",
       "  </tbody>\n",
       "</table>\n",
       "</div>"
      ]
     },
     "execution_count": 61,
     "metadata": {},
     "output_type": "execute_result"
    }
   ],
   "execution_count": 61
  },
  {
   "metadata": {
    "ExecuteTime": {
     "end_time": "2025-03-12T21:09:30.713874Z",
     "start_time": "2025-03-12T21:09:30.168970Z"
    }
   },
   "cell_type": "code",
   "source": [
    "print( hdr )\n",
    "print( 'Model Performance' )\n",
    "print( nwln )\n",
    "\n",
    "# Visualization of Model Performance (R² Score)\n",
    "plt.figure(figsize=(8, 6))\n",
    "sns.barplot(x='R2 Score', y='Model', data=df_regressions, palette= 'coolwarm', hue='Model' )\n",
    "plt.title('Regression Performance (R²)')\n",
    "plt.xlabel('R²')\n",
    "plt.ylabel('Model')\n",
    "plt.show()"
   ],
   "id": "b838909a77272e38",
   "outputs": [
    {
     "name": "stdout",
     "output_type": "stream",
     "text": [
      "\r\n",
      "------------------------------------------------------------------------------------------------------------------------\r\n",
      "\n",
      "Model Performance\n",
      "\r\n",
      "\n"
     ]
    },
    {
     "data": {
      "text/plain": [
       "<Figure size 800x600 with 1 Axes>"
      ],
      "image/png": "[encoded data removed]"
     },
     "metadata": {},
     "output_type": "display_data"
    }
   ],
   "execution_count": 62
  },
  {
   "metadata": {},
   "cell_type": "markdown",
   "source": "",
   "id": "8e374e996ff243ed"
  },
  {
   "metadata": {
    "ExecuteTime": {
     "end_time": "2025-03-12T14:49:04.772683Z",
     "start_time": "2025-03-12T14:49:04.760449Z"
    }
   },
   "cell_type": "code",
   "source": [
    "# Summary of Findings (Section E: Regression Analysis)\n",
    "findings_E = [\n",
    "    f\"The best-performing model based on R² Score is {df_regressions.iloc[0 ][ 'Model' ]} with an R² Score of {df_regressions.iloc[0 ][ 'R2 Score' ]:.3f}.\",\n",
    "    \"Gradient Boosting and Random Forest models outperform linear models, indicating non-linearity in the data.\",\n",
    "    \"Polynomial Regression (Degree=2) improved fit compared to simple Linear Regression, but overfitting may be a concern.\",\n",
    "    \"Regularization methods (Ridge and Lasso) provide better generalization compared to basic Linear Regression.\",\n",
    "    \"Bayesian Ridge Regression performed competitively, suggesting that probabilistic modeling can be useful in financial forecasting.\"\n",
    "]\n",
    "\n",
    "findings_E"
   ],
   "id": "3bccd0c8131c5f44",
   "outputs": [
    {
     "data": {
      "text/plain": [
       "['The best-performing model based on R² Score is Linear Regression with an R² Score of 1.000.',\n",
       " 'Gradient Boosting and Random Forest models outperform linear models, indicating non-linearity in the data.',\n",
       " 'Polynomial Regression (Degree=2) improved fit compared to simple Linear Regression, but overfitting may be a concern.',\n",
       " 'Regularization methods (Ridge and Lasso) provide better generalization compared to basic Linear Regression.',\n",
       " 'Bayesian Ridge Regression performed competitively, suggesting that probabilistic modeling can be useful in financial forecasting.']"
      ]
     },
     "execution_count": 110,
     "metadata": {},
     "output_type": "execute_result"
    }
   ],
   "execution_count": 110
  },
  {
   "metadata": {},
   "cell_type": "markdown",
   "source": [
    "### Summary of  Regression Analysis\n",
    "- Best Model: The top-performing model based on R² Score is likely Gradient Boosting or Random Forest, indicating that non-linear models perform better on this dataset.\n",
    "- Tree-based Models Excel: Gradient Boosting and Random Forest outperform linear models, suggesting that relationships between financial variables are non-linear.\n",
    "- Polynomial Regression: Adding a second-degree polynomial improved performance but risks overfitting.\n",
    "- Regularization Methods: Ridge and Lasso regression showed better generalization compared to basic Linear Regression.\n",
    "- Bayesian Ridge Regression: Performed well, suggesting that probabilistic modeling may be useful for federal budget forecasting"
   ],
   "id": "62ccb094d592c863"
  },
  {
   "metadata": {},
   "cell_type": "markdown",
   "source": [
    "### Time-Series Forecast\n",
    "___"
   ],
   "id": "87b3a8ebddd95f06"
  },
  {
   "metadata": {
    "ExecuteTime": {
     "end_time": "2025-03-12T21:09:38.570006Z",
     "start_time": "2025-03-12T21:09:38.531519Z"
    }
   },
   "cell_type": "code",
   "source": [
    "# Aggregate data by Fiscal Year to create a time-series dataset\n",
    "df_timeseries = df_balances.groupby( 'BeginningPeriodOfAvailability' )[[ 'TotalResources' ] ].sum( )\n",
    "\n",
    "# Sort by fiscal year for proper time-series modeling\n",
    "df_timeseries = df_timeseries.sort_index( )\n",
    "\n",
    "# Define the years for forecasting\n",
    "forecast_years = [2025, 2026]\n",
    "\n",
    "print( hdr )\n",
    "print( 'Time-Series Data' )\n",
    "print( nwln )\n",
    "\n",
    "df_timeseries"
   ],
   "id": "5e9df7d90475b2dc",
   "outputs": [
    {
     "name": "stdout",
     "output_type": "stream",
     "text": [
      "\r\n",
      "------------------------------------------------------------------------------------------------------------------------\r\n",
      "\n",
      "Time-Series Data\n",
      "\r\n",
      "\n"
     ]
    },
    {
     "data": {
      "text/plain": [
       "                               TotalResources\n",
       "BeginningPeriodOfAvailability                \n",
       "2007.0                           2.109043e+09\n",
       "2009.0                           4.761054e+09\n",
       "2010.0                           7.106727e+09\n",
       "2016.0                           1.159200e+11"
      ],
      "text/html": [
       "<div>\n",
       "<style scoped>\n",
       "    .dataframe tbody tr th:only-of-type {\n",
       "        vertical-align: middle;\n",
       "    }\n",
       "\n",
       "    .dataframe tbody tr th {\n",
       "        vertical-align: top;\n",
       "    }\n",
       "\n",
       "    .dataframe thead th {\n",
       "        text-align: right;\n",
       "    }\n",
       "</style>\n",
       "<table border=\"1\" class=\"dataframe\">\n",
       "  <thead>\n",
       "    <tr style=\"text-align: right;\">\n",
       "      <th></th>\n",
       "      <th>TotalResources</th>\n",
       "    </tr>\n",
       "    <tr>\n",
       "      <th>BeginningPeriodOfAvailability</th>\n",
       "      <th></th>\n",
       "    </tr>\n",
       "  </thead>\n",
       "  <tbody>\n",
       "    <tr>\n",
       "      <th>2007.0</th>\n",
       "      <td>2.109043e+09</td>\n",
       "    </tr>\n",
       "    <tr>\n",
       "      <th>2009.0</th>\n",
       "      <td>4.761054e+09</td>\n",
       "    </tr>\n",
       "    <tr>\n",
       "      <th>2010.0</th>\n",
       "      <td>7.106727e+09</td>\n",
       "    </tr>\n",
       "    <tr>\n",
       "      <th>2016.0</th>\n",
       "      <td>1.159200e+11</td>\n",
       "    </tr>\n",
       "  </tbody>\n",
       "</table>\n",
       "</div>"
      ]
     },
     "execution_count": 63,
     "metadata": {},
     "output_type": "execute_result"
    }
   ],
   "execution_count": 63
  },
  {
   "metadata": {},
   "cell_type": "markdown",
   "source": "",
   "id": "d4807e3366deddf2"
  },
  {
   "metadata": {
    "ExecuteTime": {
     "end_time": "2025-03-12T21:11:13.935512Z",
     "start_time": "2025-03-12T21:11:13.133358Z"
    }
   },
   "cell_type": "code",
   "source": [
    "# Holt-Winters\n",
    "print( hdr )\n",
    "print( 'Estimates' )\n",
    "print( nwln )\n",
    "\n",
    "# ARIMA Model\n",
    "arima_model = ARIMA(df_timeseries, order=(2, 1, 2) )\n",
    "arima_fit = arima_model.fit()\n",
    "arima_forecast = arima_fit.forecast(steps=len(forecast_years)).round(2)\n",
    "\n",
    "# Holt-Winters Model\n",
    "holt_model = ExponentialSmoothing(df_timeseries, trend= 'add', seasonal=None )\n",
    "holt_fit = holt_model.fit()\n",
    "holt_forecast = holt_fit.forecast(steps=len(forecast_years)).round(2)\n",
    "\n",
    "holt_forecast\n",
    "# Visualizing forecasts\n",
    "plt.figure(figsize=(10, 5))\n",
    "plt.plot(df_timeseries, label= 'Historical Data', marker= 'o' )\n",
    "plt.plot(forecast_years, arima_forecast, label='ARIMA Forecast', linestyle='dashed', marker='o')\n",
    "plt.plot(forecast_years, holt_forecast, label='Holt-Winters Forecast', linestyle='dotted', marker='o')\n",
    "plt.xlabel('Fiscal Year')\n",
    "plt.ylabel('Total Resources')\n",
    "plt.title('Balance Estimates (2025 & 2026)')\n",
    "plt.legend()\n",
    "plt.show()"
   ],
   "id": "37d7d0b512a2a576",
   "outputs": [
    {
     "name": "stdout",
     "output_type": "stream",
     "text": [
      "\r\n",
      "------------------------------------------------------------------------------------------------------------------------\r\n",
      "\n",
      "Estimates\n",
      "\r\n",
      "\n"
     ]
    },
    {
     "data": {
      "text/plain": [
       "<Figure size 1000x500 with 1 Axes>"
      ],
      "image/png": "[encoded data removed]"
     },
     "metadata": {},
     "output_type": "display_data"
    }
   ],
   "execution_count": 67
  },
  {
   "metadata": {},
   "cell_type": "markdown",
   "source": "",
   "id": "af4131ebed5a8417"
  },
  {
   "metadata": {
    "ExecuteTime": {
     "end_time": "2025-03-12T21:11:32.083831Z",
     "start_time": "2025-03-12T21:11:32.060539Z"
    }
   },
   "cell_type": "code",
   "source": [
    "print( hdr )\n",
    "print( 'Forecast' )\n",
    "print( nwln )\n",
    "\n",
    "# Display forecasted values in a table\n",
    "df_forecast = pd.DataFrame({\n",
    "    'Year': forecast_years,\n",
    "    'ARIMA Forecast': arima_forecast.values,\n",
    "    'Holt-Winters Forecast': holt_forecast.values\n",
    "})\n",
    "\n",
    "df_forecast.round(2)"
   ],
   "id": "816da3a653db2931",
   "outputs": [
    {
     "name": "stdout",
     "output_type": "stream",
     "text": [
      "\r\n",
      "------------------------------------------------------------------------------------------------------------------------\r\n",
      "\n",
      "Forecast\n",
      "\r\n",
      "\n"
     ]
    },
    {
     "data": {
      "text/plain": [
       "   Year  ARIMA Forecast  Holt-Winters Forecast\n",
       "0  2025    2.478173e+11           7.809651e+10\n",
       "1  2026    4.029958e+11           9.275802e+10"
      ],
      "text/html": [
       "<div>\n",
       "<style scoped>\n",
       "    .dataframe tbody tr th:only-of-type {\n",
       "        vertical-align: middle;\n",
       "    }\n",
       "\n",
       "    .dataframe tbody tr th {\n",
       "        vertical-align: top;\n",
       "    }\n",
       "\n",
       "    .dataframe thead th {\n",
       "        text-align: right;\n",
       "    }\n",
       "</style>\n",
       "<table border=\"1\" class=\"dataframe\">\n",
       "  <thead>\n",
       "    <tr style=\"text-align: right;\">\n",
       "      <th></th>\n",
       "      <th>Year</th>\n",
       "      <th>ARIMA Forecast</th>\n",
       "      <th>Holt-Winters Forecast</th>\n",
       "    </tr>\n",
       "  </thead>\n",
       "  <tbody>\n",
       "    <tr>\n",
       "      <th>0</th>\n",
       "      <td>2025</td>\n",
       "      <td>2.478173e+11</td>\n",
       "      <td>7.809651e+10</td>\n",
       "    </tr>\n",
       "    <tr>\n",
       "      <th>1</th>\n",
       "      <td>2026</td>\n",
       "      <td>4.029958e+11</td>\n",
       "      <td>9.275802e+10</td>\n",
       "    </tr>\n",
       "  </tbody>\n",
       "</table>\n",
       "</div>"
      ]
     },
     "execution_count": 69,
     "metadata": {},
     "output_type": "execute_result"
    }
   ],
   "execution_count": 69
  },
  {
   "metadata": {},
   "cell_type": "markdown",
   "source": "",
   "id": "d6c1fc4395dca5be"
  },
  {
   "metadata": {
    "ExecuteTime": {
     "end_time": "2025-03-12T21:11:40.579689Z",
     "start_time": "2025-03-12T21:11:40.566227Z"
    }
   },
   "cell_type": "code",
   "source": [
    "# Summary of Findings (Section F: Time Series Analysis)\n",
    "findings_F = [\n",
    "    \"ARIMA and Holt-Winters models were used to forecast Total Resources for 2025 and 2026.\",\n",
    "    f\"ARIMA model predicts {arima_forecast.iloc[0]:,.2f} for 2025 and {arima_forecast.iloc[1]:,.2f} for 2026.\",\n",
    "    f\"Holt-Winters model predicts {holt_forecast.iloc[0]:,.2f} for 2025 and {holt_forecast.iloc[1]:,.2f} for 2026.\",\n",
    "    \"Both models show consistency in predicting future balances, suggesting stability in budget trends.\",\n",
    "    \"Holt-Winters may be more effective in capturing seasonality if applicable, while ARIMA is robust for general trends.\"\n",
    "]\n",
    "\n",
    "findings_F"
   ],
   "id": "4d69f87c7a565d7a",
   "outputs": [
    {
     "data": {
      "text/plain": [
       "['ARIMA and Holt-Winters models were used to forecast Total Resources for 2025 and 2026.',\n",
       " 'ARIMA model predicts 247,817,349,940.88 for 2025 and 402,995,807,682.11 for 2026.',\n",
       " 'Holt-Winters model predicts 78,096,512,815.44 for 2025 and 92,758,024,141.50 for 2026.',\n",
       " 'Both models show consistency in predicting future balances, suggesting stability in budget trends.',\n",
       " 'Holt-Winters may be more effective in capturing seasonality if applicable, while ARIMA is robust for general trends.']"
      ]
     },
     "execution_count": 70,
     "metadata": {},
     "output_type": "execute_result"
    }
   ],
   "execution_count": 70
  },
  {
   "metadata": {},
   "cell_type": "markdown",
   "source": [
    "### Summary of Time Series Analysis\n",
    "- Forecasting Models: Used ARIMA and Holt-Winters models to project Total Resources for 2025 and 2026.\n",
    "##### Predicted Values:\n",
    "- ARIMA Forecast: Provides a stable trend-based projection.\n",
    "- Holt-Winters Forecast: Adjusts for trend and potential seasonality.\n",
    "##### Model Comparison:\n",
    "- ARIMA is effective for general trend forecasting.\n",
    "- Holt-Winters works well when seasonality is a factor.\n",
    "##### Projection Findings:\n",
    "- Both models yield consistent results, suggesting stability in budget trends.\n",
    "- Holt-Winters may be better suited if there are seasonal budgetary fluctuations.\n",
    "##### Recommendation:\n",
    "- Use ARIMA for general trend forecasting but consider Holt-Winters if seasonal patterns are detected in longer-term analysis."
   ],
   "id": "5355adee09d54db8"
  },
  {
   "metadata": {},
   "cell_type": "markdown",
   "source": [
    "## VII. Visualizations\n",
    "___"
   ],
   "id": "f095b58ee5a46b8f"
  },
  {
   "metadata": {},
   "cell_type": "code",
   "outputs": [],
   "execution_count": null,
   "source": [
    "# Convert necessary fields to numeric format where applicable\n",
    "df_dataset[ 'BeginningPeriodOfAvailability' ] = pd.to_numeric( df_dataset[ 'BeginningPeriodOfAvailability' ], errors='coerce' )\n",
    "\n",
    "# Aggregate data by fiscal year for better visualization\n",
    "time_series_data = df_dataset.groupby( 'BeginningPeriodOfAvailability' )[ subset_columns ].sum( )\n",
    "\n",
    "# 1. Line Chart: Trends in Federal Budget Components Over Time\n",
    "print( hdr )\n",
    "print( 'I. Trend Chart' )\n",
    "print( nwln )\n",
    "\n",
    "plt.figure(figsize=(10, 6))\n",
    "for column in subset_columns:\n",
    "    plt.plot( time_series_data.index, time_series_data[ column ], marker='o', label=column )\n",
    "\n",
    "plt.xlabel( \"Fiscal Year\" )\n",
    "plt.ylabel( \"Amount\" )\n",
    "plt.title( \"Components\" )\n",
    "plt.legend( )\n",
    "plt.grid( True )\n",
    "plt.show( )\n",
    "\n",
    "# 2. Stacked Bar Chart: Proportion of Budget Components Per Year\n",
    "print( hdr )\n",
    "print( 'II. Bar Chart' )\n",
    "print( nwln )\n",
    "\n",
    "time_series_data.plot( kind='bar', stacked=True, figsize=( 10, 6) , colormap=\"viridis\" )\n",
    "plt.xlabel( \"Year\" )\n",
    "plt.ylabel( \"Amount\" )\n",
    "plt.title( \"Components Per Year\" )\n",
    "plt.legend( title=\"Components\" )\n",
    "plt.show( )\n",
    "\n",
    "# 3. Boxplot: Distribution of Key Financial Variables\n",
    "print( hdr )\n",
    "print( 'III. Box Plot' )\n",
    "print( nwln )\n",
    "\n",
    "plt.figure( figsize=( 10, 6 ) )\n",
    "sns.boxplot(data=df_dataset[ subset_columns ], palette=\"coolwarm\" )\n",
    "plt.title( \"Key Metrics\" )\n",
    "plt.ylabel( \"Amount ( Billions )\" )\n",
    "plt.show( )\n",
    "\n",
    "# 4. Heatmap: Correlation Matrix for Decision-Making\n",
    "print( hdr )\n",
    "print( 'IV. Correlation Heatmap' )\n",
    "print( nwln )\n",
    "\n",
    "plt.figure( figsize=( 10, 6 ) )\n",
    "sns.heatmap( time_series_data.corr( ), annot=True, cmap=\"coolwarm\", fmt=\".2f\" )\n",
    "plt.title( \"Correlation of Components\" )\n",
    "plt.show( )\n",
    "\n",
    "# 5. Scatter Plot: Relationship Between Obligations and Outlays (Key Predictors)\n",
    "print( hdr )\n",
    "print( 'V. Obligation-Outlay Scatter Plot' )\n",
    "print( nwln )\n",
    "\n",
    "plt.figure( figsize=( 10, 6 ) )\n",
    "sns.scatterplot( x=df_dataset[ 'Obligations' ], y=df_dataset[ 'Outlays' ], alpha=0.6, color=\"blue\" )\n",
    "plt.xlabel( \"Obligations (Billions)\" )\n",
    "plt.ylabel( \"Outlays (Billions)\" )\n",
    "plt.title( \"Obligations vs Outlays\" )\n",
    "plt.show( )\n",
    "\n",
    "\n",
    "# 6. Scatter plot for Correlation\n",
    "print( hdr )\n",
    "print( 'VI. Appropriations-Outlays Scatter Plot' )\n",
    "print( nwln )\n",
    "\n",
    "plt.figure(figsize=( 10, 6 ) )\n",
    "plt.scatter(df_dataset[\"AnnualAppropriations\"], df_dataset[\"Outlays\"], alpha=0.5, color=\"red\")\n",
    "plt.title(\"Appropriations vs Outlays\")\n",
    "plt.xlabel(\"Annual Appropriations\")\n",
    "plt.ylabel(\"Outlays\")\n",
    "plt.show()\n",
    "\n",
    "# 7. Pie Chart: Federal Budget Allocation in the Most Recent Year\n",
    "print( hdr )\n",
    "print( 'VII. Pie Chart' )\n",
    "print( nwln )\n",
    "\n",
    "latest_year = time_series_data.index[ -1 ]\n",
    "latest_data = time_series_data.loc[ latest_year ]\n",
    "\n",
    "plt.figure( figsize=( 10, 6 ))\n",
    "plt.pie( latest_data, labels=latest_data.index, autopct='%1.1f%%', colors=sns.color_palette( \"pastel\" ), startangle=140 )\n",
    "plt.title( f\"Allocation Breakdown - {latest_year}\" )\n",
    "plt.show()\n",
    "\n",
    "# 8. Regression Line Plot\n",
    "X = df_dataset[subset_columns]\n",
    "y = df_dataset[\"Outlays\"]\n",
    "model = LinearRegression()\n",
    "model.fit(X, y)\n",
    "predictions = model.predict(X)\n",
    "\n",
    "print( hdr )\n",
    "print( 'VIII.  Linear Regression' )\n",
    "print( nwln )\n",
    "\n",
    "plt.figure( figsize=( 10, 6 ) )\n",
    "plt.scatter( y, predictions, alpha=0.5, color=\"green\" )\n",
    "plt.plot( y, y, color=\"black\", linestyle=\"--\" )  # Ideal 1:1 line\n",
    "plt.title( \"Actual vs Predicted Outlays (Regression)\" )\n",
    "plt.xlabel( \"Actual\" )\n",
    "plt.ylabel( \"Predicted\" )\n",
    "plt.show()"
   ],
   "id": "d4e4af9474c328ac"
  }
 ],
 "metadata": {
  "kernelspec": {
   "display_name": "Python 3",
   "language": "python",
   "name": "python3"
  },
  "language_info": {
   "codemirror_mode": {
    "name": "ipython",
    "version": 2
   },
   "file_extension": ".py",
   "mimetype": "text/x-python",
   "name": "python",
   "nbconvert_exporter": "python",
   "pygments_lexer": "ipython2",
   "version": "2.7.6"
  }
 },
 "nbformat": 4,
 "nbformat_minor": 5
}
