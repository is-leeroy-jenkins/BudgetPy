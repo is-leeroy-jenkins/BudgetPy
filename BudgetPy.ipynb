{
 "cells": [
  {
   "cell_type": "markdown",
   "metadata": {},
   "source": []
  },
  {
   "cell_type": "code",
   "execution_count": null,
   "metadata": {
    "ExecuteTime": {
     "end_time": "2024-04-03T20:44:00.995399300Z",
     "start_time": "2024-04-03T20:43:56.542279600Z"
    }
   },
   "source": [
    "# The following imports the modules needed for the BudgetPy application\n",
    "\n",
    "from importlib import reload\n",
    "import Booger as bg\n",
    "reload( bg )\n",
    "from Booger import *\n",
    "import Ninja as bn\n",
    "reload( bn )\n",
    "from Ninja import *\n",
    "import Static as bs\n",
    "reload( bs )\n",
    "from Static import *\n",
    "import Data as bd\n",
    "reload( bd )\n",
    "from Data import *\n",
    "import FileSys as bf\n",
    "reload( bf )\n",
    "from FileSys import *\n",
    "import Minion as bm\n",
    "reload( bm )\n",
    "from Minion import *\n",
    "import Schema as db\n",
    "reload( db )\n",
    "from Schema import *\n",
    "print( 'The BudgetPy modules have been loaded!' )"
   ],
   "outputs": []
  },
  {
   "cell_type": "code",
   "execution_count": 2,
   "metadata": {
    "ExecuteTime": {
     "end_time": "2024-04-03T20:55:10.911603100Z",
     "start_time": "2024-04-03T20:55:03.599895500Z"
    },
    "collapsed": false
   },
   "source": [
    "from Booger import FileDialog\n",
    "# The following opens a file dialog and prints the name\n",
    "# of the file.\n",
    "\n",
    "fd = FileDialog( )\n",
    "fd.show( )\n",
    "fi = fd.selected_path\n",
    "print( fi )\n"
   ],
   "outputs": []
  },
  {
   "metadata": {},
   "cell_type": "code",
   "outputs": [],
   "execution_count": null,
   "source": ""
  },
  {
   "cell_type": "code",
   "execution_count": 5,
   "metadata": {
    "ExecuteTime": {
     "end_time": "2024-04-03T20:43:21.096494600Z",
     "start_time": "2024-04-03T20:43:20.884913300Z"
    },
    "collapsed": false
   },
   "source": [
    "import matplotlib.pyplot as plt\n",
    "import numpy as np\n",
    "\n",
    "# Create a figure containing a single axes.\n",
    "fig, ax = plt.subplots( )  \n",
    "# Plot some data on the axes.\n",
    "ax.plot( [ 1, 2, 3, 4 ], [ 1, 4, 2, 3 ] )  \n",
    "plt.show( )"
   ],
   "outputs": []
  },
  {
   "cell_type": "code",
   "execution_count": 4,
   "metadata": {
    "ExecuteTime": {
     "end_time": "2024-04-03T21:01:39.985935Z",
     "start_time": "2024-04-03T21:01:39.424123Z"
    },
    "collapsed": false
   },
   "source": [
    "\n",
    "\n",
    "# Sample data.\n",
    "x = np.linspace( 0, 2, 100 )  \n",
    "\n",
    "# Note that even in the OO-style, we use `.pyplot.figure` to create the Figure.\n",
    "fig, ax = plt.subplots( figsize=( 5, 2.7 ), layout='constrained' )\n",
    "\n",
    "# Plot some data on the axes.\n",
    "ax.plot( x, x, label='linear' )  \n",
    "ax.plot( x, x**2, label='quadratic' )  \n",
    "ax.plot( x, x**3, label='cubic' )\n",
    "\n",
    "# Add labels to the axes\n",
    "ax.set_xlabel( 'x label' ) \n",
    "ax.set_ylabel( 'y label' )  \n",
    "\n",
    "# Add a title to the axes.\n",
    "ax.set_title( \"Simple Plot\" )  \n",
    "\n",
    "# Add a legend.\n",
    "ax.legend( )  \n",
    "\n",
    "# Display the plot\n",
    "plt.show( )"
   ],
   "outputs": []
  }
 ],
 "metadata": {
  "kernelspec": {
   "display_name": "Python 3",
   "language": "python",
   "name": "python3"
  },
  "language_info": {
   "codemirror_mode": {
    "name": "ipython",
    "version": 3
   },
   "file_extension": ".py",
   "mimetype": "text/x-python",
   "name": "python",
   "nbconvert_exporter": "python",
   "pygments_lexer": "ipython3",
   "version": "3.11.4"
  },
  "orig_nbformat": 4
 },
 "nbformat": 4,
 "nbformat_minor": 2
}
